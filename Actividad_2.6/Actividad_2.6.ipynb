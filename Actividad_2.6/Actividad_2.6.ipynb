{
 "cells": [
  {
   "cell_type": "markdown",
   "id": "c23d0284",
   "metadata": {},
   "source": [
    "## Algoritmos de Machine Learning\n",
    "\n",
    "Un **algoritmo de Machine Learning** es un conjunto de reglas matemáticas que permiten a un modelo aprender patrones a partir de datos. Se pueden dividir en varias categorías:\n",
    "\n",
    "### 📌 **Tipos de Algoritmos:**\n",
    "\n",
    "1. **Aprendizaje Supervisado** (con etiquetas):\n",
    "   - Regresión Lineal\n",
    "   - Regresión Logística\n",
    "   - Árboles de Decisión\n",
    "   - Máquinas de Soporte Vectorial (SVM)\n",
    "   - Redes Neuronales\n",
    "\n",
    "2. **Aprendizaje No Supervisado** (sin etiquetas):\n",
    "   - Clustering (K-Means, DBSCAN, etc.)\n",
    "   - Análisis de Componentes Principales (PCA)\n",
    "\n",
    "3. **Aprendizaje por Refuerzo**\n",
    "   - Q-Learning\n",
    "   - Deep Q-Networks (DQN)\n",
    "   - El aprendizaje por refuerzo (Reinforcement Learning, RL) es un tipo de Machine Learning donde un agente aprende a tomar decisiones mediante prueba y error, recibiendo recompensas o penalizaciones según sus acciones."
   ]
  },
  {
   "cell_type": "markdown",
   "id": "61e03fa3",
   "metadata": {},
   "source": [
    "## Modelos de Clasificación\n",
    "\n",
    "Los modelos de **Clasificación** son un tipo de aprendizaje supervisado que asignan una etiqueta a cada entrada. Algunos modelos de clasificación comunes incluyen:\n",
    "\n",
    "### 🏷 **Modelos de Clasificación Binaria**\n",
    "- **Regresión Logística** → Predice dos clases (ejemplo: spam o no spam).\n",
    "- **Árbol de Decisión** → Divide los datos en nodos de decisión.\n",
    "- **Máquinas de Soporte Vectorial (SVM)** → Encuentra un hiperplano óptimo para separar clases.\n",
    "\n",
    "### 🏷 **Modelos de Clasificación Multiclase**\n",
    "- **K-Vecinos Más Cercanos (KNN)** → Clasifica basado en los vecinos más cercanos.\n",
    "- **Redes Neuronales** → Modelos complejos que aprenden patrones en los datos.\n",
    "\n",
    "### 📊 **Ejemplo Visual de Clasificación con SVM**\n",
    "![Clasificación SVM](https://upload.wikimedia.org/wikipedia/commons/thumb/7/72/SVM_margin.png/640px-SVM_margin.png)"
   ]
  },
  {
   "cell_type": "markdown",
   "id": "a2928ae8",
   "metadata": {},
   "source": [
    "## Decision Boundary\n",
    "- Un Decision Boundary es una línea o margen que separa las clases.\n",
    "- El algoritmo de clasificación trata de encontrar el límite de decisión que ayude a distinguir entre las clases de manera perfecta o casi perfecta.\n",
    "- La regresión logística decide un ajuste adecuado al límite de decisión para que podamos predecir a qué clase corresponderá un nuevo dato.\n",
    "\n",
    "![Aprendizaje Supervisado](https://miro.medium.com/v2/resize:fit:720/format:webp/1*kmMho6PkiVbOXKEYvguMOQ.png)"
   ]
  },
  {
   "cell_type": "markdown",
   "id": "879020d1",
   "metadata": {},
   "source": [
    "## Aprendizaje Supervisado\n",
    "\n",
    "El **Aprendizaje Supervisado** es una técnica de Machine Learning en la que un modelo aprende a partir de ejemplos etiquetados.\n",
    "\n",
    "### 📌 **Ejemplo de Aprendizaje Supervisado**\n",
    "- Entrenamos un modelo con imágenes de **gatos** y **perros**.\n",
    "- Etiquetamos las imágenes como “gato” o “perro”.\n",
    "- El modelo aprende a predecir la categoría de nuevas imágenes.\n",
    "\n",
    "![Aprendizaje Supervisado](https://miro.medium.com/v2/resize:fit:720/format:webp/1*3FgpptTWzpd2RLgKbV-HvA.jpeg)"
   ]
  },
  {
   "cell_type": "markdown",
   "id": "c01d7209",
   "metadata": {},
   "source": [
    "## Fundamentos Matemáticos de la Regresión Logística\n",
    "\n",
    "La **regresión logística** es un modelo estadístico que se utiliza para predecir una variable de respuesta binaria (0 o 1) a partir de una o más variables independientes \\( X \\). A diferencia de la regresión lineal, la regresión logística usa la función sigmoide para modelar la probabilidad de pertenencia a una de las clases.\n",
    "\n",
    "El modelo se expresa como:\n",
    "\n",
    "$$ P(y=1 | X) = \\sigma(\\theta^T X) = \\frac{1}{1 + e^{-\\theta^T X}} $$\n",
    "\n",
    "Donde:\n",
    "- \\( y \\) es la variable dependiente binaria.\n",
    "- \\( X \\) es la matriz de características.\n",
    "- \\( theta \\) son los parámetros del modelo.\n",
    "- \\( sigma \\) es la función sigmoide.\n",
    "\n",
    "El objetivo es encontrar los valores óptimos de \\( theta \\) que maximicen la probabilidad de clasificación correcta."
   ]
  },
  {
   "cell_type": "markdown",
   "id": "2b445211",
   "metadata": {},
   "source": [
    "### Función Sigmoide\n",
    "\n",
    "La **función sigmoide** es utilizada en la regresión logística para modelar la probabilidad de pertenencia a una clase. Convierte cualquier valor real en un valor en el rango \\( (0,1) \\), lo que lo hace ideal para problemas de clasificación binaria.\n",
    "\n",
    "Se define como:\n",
    "\n",
    "$$ \\sigma(z) = \\frac{1}{1 + e^{-z}} $$\n",
    "\n",
    "Donde\n",
    "\n",
    "$$ z = X \\theta $$\n",
    "\n",
    "En nuestro modelo, la función sigmoide toma como entrada la multiplicación matricial entre las características (x) y los coeficientes (theta):\n",
    "\n",
    "$$ \\sigma(X \\theta) = \\frac{1}{1 + e^{-X \\theta}} $$\n",
    "![Función Sigmoide](https://miro.medium.com/v2/resize:fit:640/format:webp/1*xTwaKZZsIRek8jzrNWRPzQ.png)\n",
    "\n"
   ]
  },
  {
   "cell_type": "markdown",
   "id": "51f92ac6",
   "metadata": {},
   "source": [
    "## Función de Costo en Regresión Logística\n",
    "\n",
    "La función de costo es una función que mide el rendimiento de un modelo de aprendizaje automático para datos determinados.\n",
    "\n",
    "La función de costo es básicamente el cálculo del error entre los valores predichos y los valores esperados y lo presenta en forma de un único número real.\n",
    "\n",
    "Mucha gente confunde la función de costo con la función de pérdida.\n",
    "\n",
    "Bueno, para decirlo en términos simples, la **función de costo** es el promedio del error de n muestras en los datos y la **función de pérdida** es el error de puntos de datos individuales. En otras palabras, la función de pérdida es para un ejemplo de entrenamiento, la función de costo es para todo el conjunto de entrenamiento.\n",
    "\n",
    "Profundiza: https://medium.com/analytics-vidhya/understanding-logistic-regression-b3c672deac04\n",
    "\n",
    "Para entrenar el modelo, utilizamos la función de **log-verosimilitud**, que mide qué tan bien los parámetros explican los datos:\n",
    "\n",
    "$$ \\ell(\\theta) = \\sum_{i=1}^{n} \\left[ y_i \\log \\sigma(\\theta^T X_i) + (1 - y_i) \\log (1 - \\sigma(\\theta^T X_i)) \\right] $$\n",
    "\n",
    "Sin embargo, en la práctica se minimiza la versión negativa de esta función, conocida como **log-loss** o **binary cross-entropy**:\n",
    "\n",
    "$$ J(\\theta) = -\\frac{1}{n} \\sum_{i=1}^{n} \\left[ y_i \\log \\sigma(\\theta^T X_i) + (1 - y_i) \\log (1 - \\sigma(\\theta^T X_i)) \\right] $$\n",
    "\n",
    "**Minimizar** esta función equivale a encontrar los parámetros óptimos para el modelo logístico.\n"
   ]
  },
  {
   "cell_type": "markdown",
   "id": "b8d6cf6f",
   "metadata": {},
   "source": [
    "### Regularización en Regresión Logística\n",
    "\n",
    "Para evitar sobreajuste, añadimos un **término de regularización** a la función de costo. El método más común es la **regularización L2 (Ridge)**, que penaliza grandes valores en los coeficientes:\n",
    "\n",
    "$$ R(\\theta) = \\frac{\\lambda}{2n} \\sum_{j=1}^{m} \\theta_j^2 $$\n",
    "\n",
    "Incorporando la regularización en la función de costo:\n",
    "\n",
    "$$ J(\\theta) = -\\frac{1}{n} \\sum_{i=1}^{n} \\left[ y_i \\log \\sigma(X_i \\theta) + (1 - y_i) \\log (1 - \\sigma(X_i \\theta)) \\right] + \\frac{\\lambda}{2n} \\sum_{j=1}^{m} \\theta_j^2 $$\n",
    "\n",
    "Donde \\( lambda \\) es el hiperparámetro que controla la intensidad de la regularización.\n",
    "\n",
    "Tambien puedes obtener el costo y la regularización aparte y sumarlos (te dejo el código prellenado)"
   ]
  },
  {
   "cell_type": "markdown",
   "id": "0a4dc1ef",
   "metadata": {},
   "source": [
    "### Actividad. Diagnóstico de afecciones en tejido mamario.\n",
    "- Realiza las instrucciones propuestas en las celdas markdown"
   ]
  },
  {
   "cell_type": "code",
   "execution_count": null,
   "id": "36b9b3b5",
   "metadata": {},
   "outputs": [],
   "source": [
    "import numpy as np\n",
    "import pandas as pd\n",
    "from scipy.optimize import minimize\n",
    "from sklearn.model_selection import train_test_split\n",
    "from sklearn.preprocessing import StandardScaler\n",
    "from sklearn.metrics import accuracy_score\n",
    "\n",
    "# Cargar datos\n",
    "df = pd.read_csv('data.csv')\n",
    "df.head(15)\n"
   ]
  },
  {
   "cell_type": "markdown",
   "id": "ea5b2785",
   "metadata": {},
   "source": [
    "#### Obten los datos de entrada y de salida\n",
    "- Elimina las columnas innecesarias 'id', 'Unnamed: 32'\n",
    "- Convierte variable objetivo o dependiente \"diagnóstico\" a numérico"
   ]
  },
  {
   "cell_type": "code",
   "execution_count": null,
   "id": "e17600ef",
   "metadata": {},
   "outputs": [],
   "source": [
    "# Preprocesamiento de datos\n",
    "df = df.drop(<Llena código faltante>)  # Eliminar columnas irrelevantes\n",
    "df['diagnosis'] = df['diagnosis'].map(<Llena código faltante>)  # Convertir variable objetivo o dependiente \"diagnóstico\" a numérico\n",
    "# Obten X e y\n",
    "X = df.drop(columns=['diagnosis']).values\n",
    "y = df['diagnosis'].values"
   ]
  },
  {
   "cell_type": "markdown",
   "id": "2a7b00a2",
   "metadata": {},
   "source": [
    "#### Separa los datos en conjuntos X_train, X_test, y_train, y_test para su estudio"
   ]
  },
  {
   "cell_type": "code",
   "execution_count": null,
   "id": "82afea38",
   "metadata": {},
   "outputs": [],
   "source": [
    "# División del conjunto de datos\n",
    "X_train, X_test, y_train, y_test = <Llena código faltante>"
   ]
  },
  {
   "cell_type": "markdown",
   "id": "5fad2f77",
   "metadata": {},
   "source": [
    "#### Estandariza los datos con StandarScaler\n",
    "La **estandarización** es un proceso de transformación de datos en el que cada característica del conjunto de datos se ajusta para que tenga **media cero** y **varianza unitaria**. Esto es especialmente útil para algoritmos de aprendizaje automático que utilizan optimización basada en gradientes, como la **Regresión Logística**.\n",
    "\n",
    "Dado un conjunto de datos con características \\( X \\), cada valor \\( x_i \\) se transforma según la siguiente ecuación:\n",
    "\n",
    "$$\n",
    "x_{\\text{estandarizado}} = \\frac{x_i - \\mu}{\\sigma}\n",
    "$$\n",
    "\n",
    "Donde:\n",
    "- (mu) es la **media** de la característica.\n",
    "- (sigma) es la **desviación estándar** de la característica."
   ]
  },
  {
   "cell_type": "code",
   "execution_count": null,
   "id": "f981da0d",
   "metadata": {},
   "outputs": [],
   "source": [
    "# Estandarizar los datos\n",
    "scaler = StandardScaler()\n",
    "X_train_scaled = scaler.<Llena código faltante>\n",
    "X_test_scaled = scaler.<Llena código faltante>\n"
   ]
  },
  {
   "cell_type": "markdown",
   "id": "d8d133d9",
   "metadata": {},
   "source": [
    "#### Define las funciones matemáticas del modelo\n",
    "- Define la función sigmoide\n",
    "- Define la función de regularización\n",
    "- Define la función de costo. Retorna costo + regularización."
   ]
  },
  {
   "cell_type": "code",
   "execution_count": null,
   "id": "1ecc770f",
   "metadata": {},
   "outputs": [],
   "source": [
    "# Definir la función sigmoide con entrada X @ theta\n",
    "def sigmoid(z):\n",
    "    return <Llena código faltante>\n",
    "\n",
    "# Definir la función de regularización L2\n",
    "def regularization(theta, lambda_reg, m):\n",
    "    return <Llena código faltante>  # Omite theta_0\n",
    "\n",
    "# Definir la función de costo con regularización\n",
    "def cost_function_reg(theta, X, y, lambda_reg=0.1):\n",
    "    m = len(y)\n",
    "    h = sigmoid(<Llena código faltante, aplica una multiplicación de matrices>)\n",
    "    epsilon = 1e-5  # Para evitar log(0)\n",
    "    cost = <Llena código faltante>\n",
    "    return cost + regularization(theta, lambda_reg, m)\n"
   ]
  },
  {
   "cell_type": "markdown",
   "id": "92d0ca78",
   "metadata": {},
   "source": [
    "#### Obten los coeficientes de la regresión logistica\n",
    "- En los datos X de entrenamiento, agrega una columna de unos al principio. \n",
    "    - Esto es un requisito de la función minimize y sirve para el término de sesgo en los datos de entrenamiento.\n",
    "- Crea un vector de ceros 'theta_init' con la dimensión del número total de columnas de X de entrenamiento\n",
    "- Realiza la optimización con scipy.minimize y obten los coeficientes de la regresión logistica.\n",
    "    - Utiliza el método de BFGS"
   ]
  },
  {
   "cell_type": "code",
   "execution_count": null,
   "id": "b0693437",
   "metadata": {},
   "outputs": [],
   "source": [
    "# Agregar columna de unos para el término de sesgo en los datos de entrenamiento\n",
    "X_train_bias_scaled = np.c_[np.ones((X_train_scaled.shape[0], 1)), X_train_scaled]\n",
    "theta_init = np.zeros(X_train_bias_scaled.shape[1])\n",
    "\n",
    "# Optimización con scipy\n",
    "res = <Llena código faltante>\n",
    "theta_opt_scaled = res.x\n",
    "\n",
    "print('Coeficientes obtenidos con scipy:', theta_opt_scaled)"
   ]
  },
  {
   "cell_type": "markdown",
   "id": "725b68bb",
   "metadata": {},
   "source": [
    "### Evalúa la efectividad del modelo\n",
    "- En los datos X de prueba, agrega una columna de unos al principio. \n",
    "    - Esto para que tenga la misma dimensión que theta_opt_scaled y lo pueda procesar.\n",
    "- Utiliza la función sigmoide y los coeficientes de la regresión logística para obtener las predicciones\n",
    "- Escala los datos con un umbral de 0.5 y guardalos en un vector  'y_pred_scaled'\n",
    "-   Esto significa que si son mayores o iguales a 0.5, la salida es 1. Si son menores, la salida es 0.\n",
    "- Muestra el vector  'y_pred_scaled'"
   ]
  },
  {
   "cell_type": "code",
   "execution_count": null,
   "id": "7225eb3d",
   "metadata": {},
   "outputs": [],
   "source": [
    "# Evaluar la efectividad del modelo optimizado con scipy en los datos normalizados\n",
    "X_test_bias_scaled = <Llena código faltante>\n",
    "\n",
    "# Predicciones en el conjunto de prueba\n",
    "y_pred_prob_scaled = <Llena código faltante, recuerda usar multiplicación de matrices>\n",
    "y_pred_scaled = <Llena código faltante>\n",
    "y_pred_scaled"
   ]
  },
  {
   "cell_type": "markdown",
   "id": "5baced2d",
   "metadata": {},
   "source": [
    "#### Evalúa el accuracy del modelo. \n",
    "##### ¿Qué es el Accuracy?\n",
    "El **accuracy** (precisión) es una métrica fundamental en Machine Learning que mide el porcentaje de predicciones correctas sobre el total de predicciones realizadas.\n",
    "\n",
    "Se define como:\n",
    "\n",
    "$$\n",
    "\\text{Accuracy} = \\frac{\\text{Número de predicciones correctas}}{\\text{Número total de predicciones}}\n",
    "$$\n",
    "\n",
    "o en términos de clasificación binaria:\n",
    "\n",
    "$$\n",
    "\\text{Accuracy} = \\frac{TP + TN}{TP + TN + FP + FN}\n",
    "$$\n",
    "\n",
    "Donde:\n",
    "- **TP (True Positives)**: Casos positivos correctamente clasificados.\n",
    "- **TN (True Negatives)**: Casos negativos correctamente clasificados.\n",
    "- **FP (False Positives)**: Casos negativos incorrectamente clasificados como positivos.\n",
    "- **FN (False Negatives)**: Casos positivos incorrectamente clasificados como negativos.\n"
   ]
  },
  {
   "cell_type": "code",
   "execution_count": null,
   "id": "37589888",
   "metadata": {},
   "outputs": [],
   "source": [
    "# Calcular precisión del modelo optimizado con scipy en datos normalizados\n",
    "accuracy_scipy_scaled = <Llena código faltante>\n",
    "\n",
    "print('Precisión del modelo con scipy:', accuracy_scipy_scaled)"
   ]
  },
  {
   "cell_type": "markdown",
   "id": "c53f7bd9",
   "metadata": {},
   "source": [
    "### Actividad: Implementa la solución en Sklearn y compara los resultados"
   ]
  },
  {
   "cell_type": "code",
   "execution_count": null,
   "id": "06568994",
   "metadata": {},
   "outputs": [],
   "source": [
    "#### Comprueba tus resultados con la implementación en sklearn. \n",
    "# Importar la regresión logística de scikit-learn\n",
    "<Llena código faltante>\n",
    "\n",
    "# Crear y entrenar el modelo de regresión logística con scikit-learn\n",
    "<Llena código faltante>\n",
    "\n",
    "# Hacer predicciones en el conjunto de prueba\n",
    "<Llena código faltante>\n",
    "\n",
    "# Calcular la precisión del modelo con scikit-learn\n",
    "accuracy_sklearn = <Llena código faltante>\n",
    "\n",
    "# Mostrar resultados\n",
    "accuracy_sklearn"
   ]
  },
  {
   "cell_type": "markdown",
   "id": "08ae7d1c",
   "metadata": {},
   "source": [
    "### Realiza tu conclusiones.\n",
    "El accuracy tiene que ser el mismo o casi el mismo en la implementación manual o utilizando la librería de sklearn.\n",
    "\n",
    "¿Lograste el objetivo?\n",
    "\n",
    "¿Qué fue lo más dificil para ti en esta actividad?\n",
    "\n",
    "¿Qué fue lo que más te gustó?\n",
    "\n",
    "¿Con qué te quedas de esta actividad?\n",
    "\n",
    "¿En tus propias palabras qué es el accuracy?\n",
    "\n",
    "¿Podrías decirme cuantos Ciertos positivos tuvo tu modelo?\n",
    "\n",
    "¿En el caso de los datos de este estudio qué te importa más, los Ciertos postivos, los ciertos falsos, los falsos positivos o los falsos negativos?\n",
    "\n",
    "¿Para qué te sirve la regularización?\n",
    "\n",
    "Investiga en internet en qué afecta el sobreajuste a los modelos de clasificación. Describe con pocas palabras ¿Por qué es bueno evitar el sobreajuste?\n"
   ]
  }
 ],
 "metadata": {
  "kernelspec": {
   "display_name": ".venv",
   "language": "python",
   "name": "python3"
  },
  "language_info": {
   "codemirror_mode": {
    "name": "ipython",
    "version": 3
   },
   "file_extension": ".py",
   "mimetype": "text/x-python",
   "name": "python",
   "nbconvert_exporter": "python",
   "pygments_lexer": "ipython3",
   "version": "3.13.1"
  }
 },
 "nbformat": 4,
 "nbformat_minor": 5
}

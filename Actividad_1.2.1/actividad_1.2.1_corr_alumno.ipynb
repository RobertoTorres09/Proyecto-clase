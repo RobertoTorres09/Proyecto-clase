{
 "cells": [
  {
   "cell_type": "markdown",
   "metadata": {},
   "source": [
    "# Sección 4: 1.2.4 Estructuras De Datos"
   ]
  },
  {
   "cell_type": "markdown",
   "id": "7f693dbe",
   "metadata": {},
   "source": [
    "# Estructuras de Datos en Python\n",
    "Este cuaderno está diseñado para que aprendas sobre las principales estructuras de datos en Python. Veremos ejemplos prácticos y actividades que reforzarán tus conocimientos.\n",
    "\n",
    "Duración estimada: 2 horas\n",
    "\n",
    "## Contenidos:\n",
    "1. Listas\n",
    "2. Tuplas\n",
    "3. Conjuntos\n",
    "4. Diccionarios\n",
    "5. Actividad Final: Integración de estructuras de datos\n"
   ]
  },
  {
   "cell_type": "markdown",
   "id": "156e5ed8",
   "metadata": {},
   "source": [
    "## 1. Listas\n",
    "Las listas son colecciones ordenadas y mutables. Se utilizan para almacenar múltiples elementos en una sola variable. Puedes agregar, eliminar y modificar elementos."
   ]
  },
  {
   "cell_type": "code",
   "execution_count": 17,
   "id": "62e6c467",
   "metadata": {},
   "outputs": [
    {
     "name": "stdout",
     "output_type": "stream",
     "text": [
      "['manzana', 'banana', 'cereza']\n"
     ]
    }
   ],
   "source": [
    "# Ejemplo 1: Crear una lista\n",
    "frutas = ['manzana', 'banana', 'cereza']\n",
    "print(frutas)"
   ]
  },
  {
   "cell_type": "code",
   "execution_count": 18,
   "id": "6582d809",
   "metadata": {},
   "outputs": [
    {
     "name": "stdout",
     "output_type": "stream",
     "text": [
      "manzana\n",
      "cereza\n"
     ]
    }
   ],
   "source": [
    "# Ejemplo 2: Acceder a elementos\n",
    "print(frutas[0])  # Primer elemento\n",
    "print(frutas[-1])  # Último elemento"
   ]
  },
  {
   "cell_type": "code",
   "execution_count": 19,
   "id": "1719ff4d",
   "metadata": {},
   "outputs": [
    {
     "name": "stdout",
     "output_type": "stream",
     "text": [
      "['manzana', 'banana', 'cereza', 'naranja']\n",
      "['manzana', 'cereza', 'naranja']\n"
     ]
    }
   ],
   "source": [
    "# Ejemplo 3: Agregar y eliminar elementos\n",
    "frutas.append('naranja')\n",
    "print(frutas)\n",
    "frutas.remove('banana')\n",
    "print(frutas)"
   ]
  },
  {
   "cell_type": "code",
   "execution_count": 20,
   "id": "f5e461de",
   "metadata": {},
   "outputs": [
    {
     "name": "stdout",
     "output_type": "stream",
     "text": [
      "manzana\n",
      "cereza\n",
      "naranja\n"
     ]
    }
   ],
   "source": [
    "# Ejemplo 4: Iterar sobre una lista\n",
    "for fruta in frutas:\n",
    "    print(fruta)"
   ]
  },
  {
   "cell_type": "markdown",
   "id": "7266afb6",
   "metadata": {},
   "source": [
    "### Actividad 1: Listas\n",
    "Crea una lista llamada `mis_numeros_a1` con al menos 5 números enteros. Luego, realiza lo siguiente:\n",
    "- Agrega el número 10 a la lista.\n",
    "- Elimina el primer elemento de la lista.\n",
    "- Imprime todos los elementos usando un bucle."
   ]
  },
  {
   "cell_type": "code",
   "execution_count": 21,
   "id": "56e73f14",
   "metadata": {},
   "outputs": [
    {
     "name": "stdout",
     "output_type": "stream",
     "text": [
      "5\n",
      "8\n",
      "9\n",
      "12\n",
      "10\n"
     ]
    }
   ],
   "source": [
    "mis_numeros_a1 = ['2', '5', '8', '9', '12']\n",
    "mis_numeros_a1.append(10)\n",
    "mis_numeros_a1.remove(mis_numeros_a1[0])\n",
    "for numeros in mis_numeros_a1:\n",
    "    print(numeros)"
   ]
  },
  {
   "cell_type": "markdown",
   "id": "133c3fda",
   "metadata": {},
   "source": [
    "## 2. Tuplas\n",
    "Las tuplas son colecciones ordenadas pero inmutables. Una vez creada, no puedes modificar sus elementos."
   ]
  },
  {
   "cell_type": "code",
   "execution_count": 22,
   "id": "e9b84331",
   "metadata": {},
   "outputs": [
    {
     "name": "stdout",
     "output_type": "stream",
     "text": [
      "('rojo', 'verde', 'azul')\n"
     ]
    }
   ],
   "source": [
    "# Ejemplo 1: Crear una tupla\n",
    "colores = ('rojo', 'verde', 'azul')\n",
    "print(colores)"
   ]
  },
  {
   "cell_type": "code",
   "execution_count": 23,
   "id": "0f343620",
   "metadata": {},
   "outputs": [
    {
     "name": "stdout",
     "output_type": "stream",
     "text": [
      "verde\n",
      "azul\n"
     ]
    }
   ],
   "source": [
    "# Ejemplo 2: Acceder a elementos\n",
    "print(colores[1])\n",
    "print(colores[-1])"
   ]
  },
  {
   "cell_type": "code",
   "execution_count": 24,
   "id": "42281fee",
   "metadata": {},
   "outputs": [
    {
     "name": "stdout",
     "output_type": "stream",
     "text": [
      "rojo\n",
      "verde\n",
      "azul\n"
     ]
    }
   ],
   "source": [
    "# Ejemplo 3: Desempaquetar una tupla\n",
    "rojo, verde, azul = colores\n",
    "print(rojo)\n",
    "print(verde)\n",
    "print(azul)"
   ]
  },
  {
   "cell_type": "code",
   "execution_count": 25,
   "id": "a6cee347",
   "metadata": {},
   "outputs": [
    {
     "name": "stdout",
     "output_type": "stream",
     "text": [
      "1\n",
      "1\n"
     ]
    }
   ],
   "source": [
    "# Ejemplo 4: Contar y buscar elementos\n",
    "print(colores.count('rojo'))\n",
    "print(colores.index('verde'))"
   ]
  },
  {
   "cell_type": "markdown",
   "id": "673be4e8",
   "metadata": {},
   "source": [
    "### Actividad 2: Tuplas\n",
    "Crea una tupla llamada `mi_tupla` con los nombres de 3 ciudades. Luego, imprime cada ciudad en una línea diferente."
   ]
  },
  {
   "cell_type": "code",
   "execution_count": 26,
   "id": "d480b4ac",
   "metadata": {},
   "outputs": [
    {
     "name": "stdout",
     "output_type": "stream",
     "text": [
      "Vancouver\n",
      "Londres\n",
      "Roma\n"
     ]
    }
   ],
   "source": [
    "mi_tupla = ('Vancouver','Londres','Roma')\n",
    "for tupla in mi_tupla:\n",
    "    print(tupla)"
   ]
  },
  {
   "cell_type": "markdown",
   "id": "2f52f1fd",
   "metadata": {},
   "source": [
    "## 3. Conjuntos\n",
    "Los conjuntos son colecciones no ordenadas y no permiten elementos duplicados. Son útiles para realizar operaciones como unión e intersección."
   ]
  },
  {
   "cell_type": "code",
   "execution_count": 27,
   "id": "a73a4feb",
   "metadata": {},
   "outputs": [
    {
     "name": "stdout",
     "output_type": "stream",
     "text": [
      "{1, 2, 3, 4}\n"
     ]
    }
   ],
   "source": [
    "# Ejemplo 1: Crear un conjunto\n",
    "mis_numeros = {1, 2, 3, 4} \n",
    "print(mis_numeros)"
   ]
  },
  {
   "cell_type": "code",
   "execution_count": 28,
   "id": "6d40000a",
   "metadata": {},
   "outputs": [
    {
     "name": "stdout",
     "output_type": "stream",
     "text": [
      "{1, 2, 3, 4, 5}\n",
      "{2, 3, 4, 5}\n"
     ]
    }
   ],
   "source": [
    "# Ejemplo 2: Agregar y eliminar elementos\n",
    "mis_numeros.add(5)\n",
    "print(mis_numeros)\n",
    "mis_numeros.remove(1)\n",
    "print(mis_numeros)"
   ]
  },
  {
   "cell_type": "code",
   "execution_count": 29,
   "id": "f3d555b3",
   "metadata": {},
   "outputs": [
    {
     "name": "stdout",
     "output_type": "stream",
     "text": [
      "{2, 3, 4, 5, 6}\n",
      "{3, 4, 5}\n"
     ]
    }
   ],
   "source": [
    "# Ejemplo 3: Operaciones de conjuntos\n",
    "otros_numeros = {3, 4, 5, 6}\n",
    "print(mis_numeros.union(otros_numeros))\n",
    "print(mis_numeros.intersection(otros_numeros))"
   ]
  },
  {
   "cell_type": "markdown",
   "id": "7c0ecb0b",
   "metadata": {},
   "source": [
    "### Actividad 3: Conjuntos\n",
    "Crea dos conjuntos llamados `conjunto1` y `conjunto2` con al menos 3 elementos cada uno. Realiza las operaciones de unión e intersección e imprime los resultados. Utiliza las variables `union` y `interseccion` para cada caso, porque se revisaran en las pruebas unitarias."
   ]
  },
  {
   "cell_type": "code",
   "execution_count": 30,
   "id": "ec49b135",
   "metadata": {},
   "outputs": [
    {
     "name": "stdout",
     "output_type": "stream",
     "text": [
      "{4, 7, 9, 12, 45}\n",
      "{12}\n"
     ]
    }
   ],
   "source": [
    "conjunto1 = {4, 12, 45}\n",
    "conjunto2 = {12, 7, 9}\n",
    "union = conjunto1.union(conjunto2)\n",
    "interseccion = conjunto1.intersection(conjunto2)\n",
    "print(union)\n",
    "print(interseccion)"
   ]
  },
  {
   "cell_type": "markdown",
   "id": "e82b4c50",
   "metadata": {},
   "source": [
    "## 4. Diccionarios\n",
    "Los diccionarios almacenan pares clave-valor. Son útiles para representar relaciones y buscar valores rápidamente."
   ]
  },
  {
   "cell_type": "code",
   "execution_count": 31,
   "id": "a608c56d",
   "metadata": {},
   "outputs": [
    {
     "name": "stdout",
     "output_type": "stream",
     "text": [
      "{'nombre': 'Juan', 'edad': 22, 'carrera': 'Ingeniería'}\n"
     ]
    }
   ],
   "source": [
    "# Ejemplo 1: Crear un diccionario\n",
    "alumno = {'nombre': 'Juan', 'edad': 22, 'carrera': 'Ingeniería'}\n",
    "print(alumno)"
   ]
  },
  {
   "cell_type": "code",
   "execution_count": 32,
   "id": "ef02d5b5",
   "metadata": {},
   "outputs": [
    {
     "name": "stdout",
     "output_type": "stream",
     "text": [
      "Juan\n",
      "22\n"
     ]
    }
   ],
   "source": [
    "# Ejemplo 2: Acceder a valores\n",
    "print(alumno['nombre'])\n",
    "print(alumno.get('edad'))"
   ]
  },
  {
   "cell_type": "code",
   "execution_count": 33,
   "id": "0707dada",
   "metadata": {},
   "outputs": [
    {
     "name": "stdout",
     "output_type": "stream",
     "text": [
      "{'nombre': 'Juan', 'edad': 23, 'carrera': 'Ingeniería'}\n"
     ]
    }
   ],
   "source": [
    "# Ejemplo 3: Modificar valores\n",
    "alumno['edad'] = 23\n",
    "print(alumno)"
   ]
  },
  {
   "cell_type": "code",
   "execution_count": 34,
   "id": "98522371",
   "metadata": {},
   "outputs": [
    {
     "name": "stdout",
     "output_type": "stream",
     "text": [
      "nombre: Juan\n",
      "edad: 23\n",
      "carrera: Ingeniería\n"
     ]
    }
   ],
   "source": [
    "# Ejemplo 4: Iterar sobre un diccionario\n",
    "for clave, valor in alumno.items():\n",
    "    print(f'{clave}: {valor}')"
   ]
  },
  {
   "cell_type": "markdown",
   "id": "a18453ad",
   "metadata": {},
   "source": [
    "### Actividad 4: Diccionarios\n",
    "Crea un diccionario llamado `mi_diccionario` con información sobre una mascota (nombre, edad, tipo). Agrega un nuevo par clave-valor para la especie, y luego imprime todos los pares clave-valor."
   ]
  },
  {
   "cell_type": "code",
   "execution_count": 35,
   "id": "fbad2ecf",
   "metadata": {},
   "outputs": [
    {
     "name": "stdout",
     "output_type": "stream",
     "text": [
      "nombre: Chelsea\n",
      "edad: 12\n",
      "tipo: french poodle\n",
      "especie: perro\n"
     ]
    }
   ],
   "source": [
    "mi_diccionario = {'nombre':'Chelsea','edad':12,'tipo':'french poodle'}\n",
    "mi_diccionario['especie']='perro'\n",
    "for clave, valor in mi_diccionario.items():\n",
    "    print(f'{clave}: {valor}')"
   ]
  },
  {
   "cell_type": "markdown",
   "id": "eb6c0f0d",
   "metadata": {},
   "source": [
    "## Evaluación Final\n",
    "En esta celda, evaluaremos tus respuestas a todas las actividades mediante pruebas unitarias simples. Ejecuta esta celda para verificar si tus soluciones son correctas."
   ]
  },
  {
   "cell_type": "code",
   "execution_count": 36,
   "id": "c32c9382",
   "metadata": {},
   "outputs": [
    {
     "name": "stderr",
     "output_type": "stream",
     "text": [
      "....\n",
      "----------------------------------------------------------------------\n",
      "Ran 4 tests in 0.002s\n",
      "\n",
      "OK\n"
     ]
    },
    {
     "data": {
      "text/plain": [
       "<unittest.main.TestProgram at 0x22376786510>"
      ]
     },
     "execution_count": 36,
     "metadata": {},
     "output_type": "execute_result"
    }
   ],
   "source": [
    "import unittest\n",
    "\n",
    "class TestEstructurasDatos(unittest.TestCase):\n",
    "    def test_actividad1(self):\n",
    "        self.assertIn(10, mis_numeros_a1, 'Error en actividad 1: Falta agregar 10')\n",
    "        self.assertEqual(len(mis_numeros_a1), 5, 'Error en actividad 1: Tamaño incorrecto')\n",
    "\n",
    "    def test_actividad2(self):\n",
    "        self.assertEqual(len(mi_tupla), 3, 'Error en actividad 2: Tamaño incorrecto')\n",
    "\n",
    "    def test_actividad3(self):\n",
    "        self.assertEqual(conjunto1.union(conjunto2), union, 'Error en actividad 3: Unión incorrecta')\n",
    "        self.assertEqual(conjunto1.intersection(conjunto2), interseccion, 'Error en actividad 3: Intersección incorrecta')\n",
    "\n",
    "    def test_actividad4(self):\n",
    "        self.assertIn('especie', mi_diccionario, 'Error en actividad 4: Falta clave especie')\n",
    "\n",
    "unittest.main(argv=[''], exit=False)"
   ]
  },
  {
   "cell_type": "markdown",
   "metadata": {},
   "source": [
    "# Sección 5: 1.2.4 Slicing"
   ]
  },
  {
   "cell_type": "markdown",
   "metadata": {},
   "source": [
    "# Slicing en Python\n",
    "El slicing es una técnica utilizada para extraer porciones de secuencias en Python, como listas, cadenas y tuplas. Este cuaderno te enseñará los fundamentos del slicing con ejemplos prácticos y actividades.\n",
    "\n",
    "Duración estimada: 1 hora\n",
    "\n",
    "## Contenidos:\n",
    "1. Introducción al Slicing\n",
    "2. Slicing en Listas\n",
    "3. Slicing en Cadenas\n",
    "4. Slicing en Tuplas\n",
    "5. Actividad Final\n"
   ]
  },
  {
   "cell_type": "markdown",
   "metadata": {},
   "source": [
    "## 1. Introducción al Slicing\n",
    "El slicing utiliza la notación `[inicio:fin:paso]` para seleccionar partes de una secuencia:\n",
    "- **inicio**: Índice donde comienza el slicing (incluido).\n",
    "- **fin**: Índice donde termina el slicing (excluido).\n",
    "- **paso**: Número de elementos a saltar.\n",
    "\n",
    "Todos estos parámetros son opcionales."
   ]
  },
  {
   "cell_type": "code",
   "execution_count": 37,
   "metadata": {},
   "outputs": [
    {
     "name": "stdout",
     "output_type": "stream",
     "text": [
      "[2, 3, 4, 5, 6]\n",
      "[0, 1, 2, 3, 4]\n",
      "[5, 6, 7, 8, 9]\n"
     ]
    }
   ],
   "source": [
    "# Ejemplo básico\n",
    "mi_lista = [0, 1, 2, 3, 4, 5, 6, 7, 8, 9]\n",
    "print(mi_lista[2:7])  # Desde el índice 2 hasta el 6\n",
    "print(mi_lista[:5])   # Desde el inicio hasta el índice 4\n",
    "print(mi_lista[5:])   # Desde el índice 5 hasta el final"
   ]
  },
  {
   "cell_type": "markdown",
   "metadata": {},
   "source": [
    "## 2. Slicing en Listas\n",
    "Las listas son mutables, y el slicing es una forma poderosa de manipularlas o analizar sus elementos."
   ]
  },
  {
   "cell_type": "code",
   "execution_count": 38,
   "metadata": {},
   "outputs": [
    {
     "name": "stdout",
     "output_type": "stream",
     "text": [
      "[10, 30, 50, 70, 90]\n",
      "[90, 80, 70, 60, 50, 40, 30, 20, 10]\n"
     ]
    }
   ],
   "source": [
    "# Ejemplo 1: Usar paso\n",
    "numeros = [10, 20, 30, 40, 50, 60, 70, 80, 90]\n",
    "print(numeros[::2])  # Elementos con paso de 2\n",
    "print(numeros[::-1]) # Lista invertida"
   ]
  },
  {
   "cell_type": "code",
   "execution_count": 39,
   "metadata": {},
   "outputs": [
    {
     "name": "stdout",
     "output_type": "stream",
     "text": [
      "[10, 25, 35, 45, 50, 60, 70, 80, 90]\n"
     ]
    }
   ],
   "source": [
    "# Ejemplo 2: Reemplazar valores\n",
    "numeros[1:4] = [25, 35, 45]\n",
    "print(numeros)"
   ]
  },
  {
   "cell_type": "markdown",
   "metadata": {},
   "source": [
    "### Actividad 1: Slicing en Listas\n",
    "Crea una lista llamada `mis_frutas` con al menos 6 nombres de frutas. Realiza los siguientes pasos:\n",
    "1. Los primeros 3 nombres serán 'fruta1', 'fruta2', 'fruta3'\n",
    "2. IMPRIME una sublista con las primeras 3 frutas.\n",
    "3. IMPRIME una sublista con las frutas en posiciones pares.\n",
    "4. IMPRIME la lista invertida."
   ]
  },
  {
   "cell_type": "code",
   "execution_count": 40,
   "metadata": {},
   "outputs": [
    {
     "name": "stdout",
     "output_type": "stream",
     "text": [
      "Primeras tres frutas: ['fruta1', 'fruta2', 'fruta3']\n",
      "Frutas en posiciones pares: ['fruta1', 'fruta3', 'pera', 'sandía']\n",
      "Lista invertida: ['sandía', 'uva', 'pera', 'manzana', 'fruta3', 'fruta2', 'fruta1']\n"
     ]
    }
   ],
   "source": [
    "mis_frutas = [\"fruta1\", \"fruta2\", \"fruta3\", \"manzana\", \"pera\", \"uva\", \"sandía\"]\n",
    "print(\"Primeras tres frutas:\", mis_frutas[:3])\n",
    "print(\"Frutas en posiciones pares:\", mis_frutas[::2])\n",
    "print(\"Lista invertida:\", mis_frutas[::-1])"
   ]
  },
  {
   "cell_type": "markdown",
   "metadata": {},
   "source": [
    "## 3. Slicing en Cadenas\n",
    "Las cadenas de texto son inmutables, pero el slicing permite analizar y extraer subcadenas."
   ]
  },
  {
   "cell_type": "code",
   "execution_count": 41,
   "metadata": {},
   "outputs": [
    {
     "name": "stdout",
     "output_type": "stream",
     "text": [
      "es\n",
      "Python\n",
      "increíble\n"
     ]
    }
   ],
   "source": [
    "# Ejemplo 1: Extraer subcadenas\n",
    "texto = 'Python es increíble'\n",
    "print(texto[7:9])    # 'es'\n",
    "print(texto[:6])     # 'Python'\n",
    "print(texto[-9:])    # 'increíble'"
   ]
  },
  {
   "cell_type": "code",
   "execution_count": 42,
   "metadata": {},
   "outputs": [
    {
     "name": "stdout",
     "output_type": "stream",
     "text": [
      "Pto sicebe\n",
      "elbíercni se nohtyP\n"
     ]
    }
   ],
   "source": [
    "# Ejemplo 2: Usar paso\n",
    "print(texto[::2])    # Caracteres en posiciones pares\n",
    "print(texto[::-1])   # Cadena invertida"
   ]
  },
  {
   "cell_type": "markdown",
   "metadata": {},
   "source": [
    "### Actividad 2: Slicing en Cadenas\n",
    "Declara una cadena llamada `mi_cadena` con la frase: 'El slicing es poderoso'. Realiza los siguientes pasos:\n",
    "1. Extrae la palabra 'slicing'. SOLO IMPRIMELO.\n",
    "2. Obtén la cadena con los caracteres en posiciones impares. SOLO IMPRIMELO.\n",
    "3. Invierte el texto. SOLO IMPRIMELO."
   ]
  },
  {
   "cell_type": "code",
   "execution_count": 43,
   "metadata": {},
   "outputs": [
    {
     "name": "stdout",
     "output_type": "stream",
     "text": [
      "slicing\n",
      "lsiige oeoo\n",
      "osoredop se gnicils lE\n"
     ]
    }
   ],
   "source": [
    "mi_cadena = \"El slicing es poderoso\"\n",
    "print(mi_cadena[3:10])\n",
    "print(mi_cadena[1::2])\n",
    "print(mi_cadena[::-1])"
   ]
  },
  {
   "cell_type": "markdown",
   "metadata": {},
   "source": [
    "## 4. Slicing en Tuplas\n",
    "Aunque las tuplas son inmutables, el slicing permite extraer partes de ellas."
   ]
  },
  {
   "cell_type": "code",
   "execution_count": 44,
   "metadata": {},
   "outputs": [
    {
     "name": "stdout",
     "output_type": "stream",
     "text": [
      "(200, 300, 400)\n"
     ]
    }
   ],
   "source": [
    "# Ejemplo 1: Extraer elementos\n",
    "mi_tupla_slicing = (100, 200, 300, 400, 500)\n",
    "print(mi_tupla_slicing[1:4]) # Desde el índice 1 hasta el 3"
   ]
  },
  {
   "cell_type": "code",
   "execution_count": 45,
   "metadata": {},
   "outputs": [
    {
     "name": "stdout",
     "output_type": "stream",
     "text": [
      "(100, 300, 500)\n",
      "(500, 400, 300, 200, 100)\n"
     ]
    }
   ],
   "source": [
    "# Ejemplo 2: Usar paso\n",
    "print(mi_tupla_slicing[::2])  # Elementos en posiciones pares\n",
    "print(mi_tupla_slicing[::-1]) # Tupla invertida"
   ]
  },
  {
   "cell_type": "markdown",
   "metadata": {},
   "source": [
    "### Actividad 3: Slicing en Tuplas\n",
    "Declara una tupla llamada `mi_tupla_slicing` con los números del 1 al 10. Realiza los siguientes pasos:\n",
    "1. Extrae una subtupla con los números del 4 al 7. SOLO IMPRIME.\n",
    "2. Obtén una tupla con los números en posiciones impares.SOLO IMPRIME.\n",
    "3. Invierte la tupla.SOLO IMPRIME."
   ]
  },
  {
   "cell_type": "code",
   "execution_count": 46,
   "metadata": {},
   "outputs": [
    {
     "name": "stdout",
     "output_type": "stream",
     "text": [
      "(4, 5, 6, 7)\n",
      "(1, 3, 5, 7, 9)\n",
      "(10, 9, 8, 7, 6, 5, 4, 3, 2, 1)\n"
     ]
    }
   ],
   "source": [
    "mi_tupla_slicing = (1, 2, 3, 4, 5, 6, 7, 8, 9, 10)\n",
    "print(mi_tupla_slicing[3:7])\n",
    "print(mi_tupla_slicing[::2])\n",
    "print(mi_tupla_slicing[::-1])"
   ]
  },
  {
   "cell_type": "markdown",
   "metadata": {},
   "source": [
    "## Evaluación Final\n",
    "En esta celda, evaluaremos tus respuestas a las actividades mediante pruebas unitarias simples. Ejecuta esta celda para verificar si tus soluciones son correctas."
   ]
  },
  {
   "cell_type": "code",
   "execution_count": 47,
   "metadata": {},
   "outputs": [
    {
     "name": "stderr",
     "output_type": "stream",
     "text": [
      ".......\n",
      "----------------------------------------------------------------------\n",
      "Ran 7 tests in 0.006s\n",
      "\n",
      "OK\n"
     ]
    },
    {
     "data": {
      "text/plain": [
       "<unittest.main.TestProgram at 0x22376566c10>"
      ]
     },
     "execution_count": 47,
     "metadata": {},
     "output_type": "execute_result"
    }
   ],
   "source": [
    "import unittest\n",
    "\n",
    "class TestSlicing(unittest.TestCase):\n",
    "    def test_actividad1(self):\n",
    "        self.assertEqual(mis_frutas[:3], ['fruta1', 'fruta2', 'fruta3'], 'Error en Actividad 1: Sublista incorrecta')\n",
    "\n",
    "    def test_actividad2(self):\n",
    "        self.assertEqual(mi_cadena[::-1], 'osoredop se gnicils lE', 'Error en Actividad 2: Inversión incorrecta')\n",
    "\n",
    "    def test_actividad3(self):\n",
    "        self.assertEqual(mi_tupla_slicing[3:7], (4, 5, 6, 7), 'Error en Actividad 3: Subtupla incorrecta')\n",
    "\n",
    "unittest.main(argv=[''], exit=False)"
   ]
  },
  {
   "cell_type": "markdown",
   "metadata": {},
   "source": [
    "# Sección 6: 1.2.4 Comprehesion"
   ]
  },
  {
   "cell_type": "markdown",
   "metadata": {},
   "source": [
    "# Repaso de List Comprehension y Dictionary Comprehension\n",
    "Las comprehensions son una forma concisa y eficiente de crear estructuras de datos como listas y diccionarios en Python. Este cuaderno te ayudará a entender cómo utilizarlas correctamente con ejemplos prácticos y actividades.\n",
    "\n",
    "Duración estimada: 1 hora\n",
    "\n",
    "## Contenidos:\n",
    "1. Introducción a List Comprehension\n",
    "2. Introducción a Dictionary Comprehension\n",
    "3. Ejercicios de Integración\n"
   ]
  },
  {
   "cell_type": "markdown",
   "metadata": {},
   "source": [
    "## 1. List Comprehension\n",
    "La list comprehension es una forma de crear listas en una sola línea. Su sintaxis básica es:\n",
    "\n",
    "`[expresion for elemento in iterable if condicion]`\n",
    "\n",
    "- **expresion**: Lo que quieres incluir en la nueva lista.\n",
    "- **elemento**: El elemento actual del iterable.\n",
    "- **iterable**: La colección que estás iterando.\n",
    "- **condicion**: (Opcional) Filtra los elementos que deseas incluir."
   ]
  },
  {
   "cell_type": "code",
   "execution_count": 48,
   "metadata": {},
   "outputs": [
    {
     "name": "stdout",
     "output_type": "stream",
     "text": [
      "[1, 4, 9, 16, 25]\n"
     ]
    }
   ],
   "source": [
    "# Ejemplo 1: Crear una lista con números elevados al cuadrado\n",
    "numeros = [1, 2, 3, 4, 5]\n",
    "cuadrados = [n**2 for n in numeros]\n",
    "print(cuadrados)"
   ]
  },
  {
   "cell_type": "code",
   "execution_count": 49,
   "metadata": {},
   "outputs": [
    {
     "name": "stdout",
     "output_type": "stream",
     "text": [
      "[2, 4]\n"
     ]
    }
   ],
   "source": [
    "# Ejemplo 2: Filtrar números pares\n",
    "pares = [n for n in numeros if n % 2 == 0]\n",
    "print(pares)"
   ]
  },
  {
   "cell_type": "code",
   "execution_count": 50,
   "metadata": {},
   "outputs": [
    {
     "name": "stdout",
     "output_type": "stream",
     "text": [
      "[4, 16]\n"
     ]
    }
   ],
   "source": [
    "# Ejemplo 3: Operaciones combinadas\n",
    "resultado = [n**2 for n in numeros if n % 2 == 0]\n",
    "print(resultado)"
   ]
  },
  {
   "cell_type": "markdown",
   "metadata": {},
   "source": [
    "### Actividad 1: List Comprehension\n",
    "Dada la lista `mi_lista = [10, 15, 20, 25, 30, 2, 8, 16, 27, 36]`, utiliza list comprehension para:\n",
    "1. Crear una nueva lista `lista_multiples` con los números que son múltiplos de 5.\n",
    "2. Crear una lista `lista_dobles` con el doble de cada número.\n",
    "3. Filtrar los números mayores a 20 en la lista ´mayores_20´."
   ]
  },
  {
   "cell_type": "code",
   "execution_count": 51,
   "metadata": {},
   "outputs": [
    {
     "data": {
      "text/plain": [
       "[25, 30, 27, 36]"
      ]
     },
     "execution_count": 51,
     "metadata": {},
     "output_type": "execute_result"
    }
   ],
   "source": [
    "mi_lista = [10, 15, 20, 25, 30, 2, 8, 16, 27, 36]\n",
    "lista_multiples = [num for num in mi_lista if num % 5 == 0]\n",
    "lista_dobles = [num * 2 for num in mi_lista]\n",
    "mayores_20 = [num for num in mi_lista if num > 20]\n",
    "mayores_20"
   ]
  },
  {
   "cell_type": "markdown",
   "metadata": {},
   "source": [
    "## 2. Dictionary Comprehension\n",
    "El dictionary comprehension permite crear diccionarios en una sola línea. Su sintaxis básica es:\n",
    "\n",
    "`{clave: valor for elemento in iterable if condicion}`\n",
    "\n",
    "- **clave**: La clave para cada entrada del diccionario.\n",
    "- **valor**: El valor asociado a la clave.\n",
    "- **elemento**: El elemento actual del iterable.\n",
    "- **condicion**: (Opcional) Filtra las entradas del diccionario."
   ]
  },
  {
   "cell_type": "code",
   "execution_count": 52,
   "metadata": {},
   "outputs": [
    {
     "name": "stdout",
     "output_type": "stream",
     "text": [
      "{1: 1, 2: 4, 3: 9, 4: 16, 5: 25}\n"
     ]
    }
   ],
   "source": [
    "# Ejemplo 1: Crear un diccionario con cuadrados\n",
    "numeros = [1, 2, 3, 4, 5]\n",
    "diccionario_cuadrados = {n: n**2 for n in numeros}\n",
    "print(diccionario_cuadrados)"
   ]
  },
  {
   "cell_type": "code",
   "execution_count": 53,
   "metadata": {},
   "outputs": [
    {
     "name": "stdout",
     "output_type": "stream",
     "text": [
      "{2: 4, 4: 16}\n"
     ]
    }
   ],
   "source": [
    "# Ejemplo 2: Filtrar valores\n",
    "diccionario_pares = {n: n**2 for n in numeros if n % 2 == 0}\n",
    "print(diccionario_pares)"
   ]
  },
  {
   "cell_type": "markdown",
   "metadata": {},
   "source": [
    "### Actividad 2: Dictionary Comprehension\n",
    "Dado el rango de números del 1 al 10:\n",
    "1. Crea un diccionario `diccionario_dobles` que mapee cada número con su doble.\n",
    "2. Crea un diccionario `diccionario_impares_cuadrados` que contenga solo los números impares como claves y su cuadrado como valores. La salida sería {1: 1, 3: 9, 5: 25, 7: 49, 9: 81}, pero debes usar dictionary comprehesion"
   ]
  },
  {
   "cell_type": "code",
   "execution_count": 54,
   "metadata": {},
   "outputs": [
    {
     "name": "stdout",
     "output_type": "stream",
     "text": [
      "{1: 2, 2: 4, 3: 6, 4: 8, 5: 10, 6: 12, 7: 14, 8: 16, 9: 18, 10: 20}\n",
      "{1: 1, 3: 9, 5: 25, 7: 49, 9: 81}\n"
     ]
    }
   ],
   "source": [
    "numeros = range(1, 11)\n",
    "diccionario_dobles = {num: num * 2 for num in numeros}\n",
    "diccionario_impares_cuadrados = {num: num ** 2 for num in numeros if num % 2 != 0}\n",
    "print(diccionario_dobles)\n",
    "print(diccionario_impares_cuadrados)"
   ]
  },
  {
   "cell_type": "markdown",
   "metadata": {},
   "source": [
    "## 3. Ejercicios de Integración\n",
    "Combina list comprehension y dictionary comprehension para resolver los siguientes problemas:\n",
    "1. Dada una lista de palabras, crea un diccionario que mapee cada palabra con su longitud.\n",
    "2. Dada una lista de números, crea un diccionario que mapee cada número con \"par\" o \"impar\" dependiendo de su valor."
   ]
  },
  {
   "cell_type": "code",
   "execution_count": 55,
   "metadata": {},
   "outputs": [
    {
     "name": "stdout",
     "output_type": "stream",
     "text": [
      "{'python': 6, 'tesla': 5, 'inteligencia': 12, 'crypto': 6, 'apple': 5}\n",
      "{10: 'par', 21: 'impar', 34: 'par', 47: 'impar', 55: 'impar', 62: 'par', 78: 'par', 83: 'impar', 91: 'impar', 100: 'par'}\n"
     ]
    }
   ],
   "source": [
    "palabras = [\"python\", \"tesla\", \"inteligencia\", \"crypto\", \"apple\"]\n",
    "diccionario_longitudes = {palabra: len(palabra) for palabra in palabras}\n",
    "numeros = [10, 21, 34, 47, 55, 62, 78, 83, 91, 100]\n",
    "diccionario_par_impar = {num: \"par\" if num % 2 == 0 else \"impar\" for num in numeros}\n",
    "print(diccionario_longitudes)\n",
    "print(diccionario_par_impar)\n"
   ]
  },
  {
   "cell_type": "markdown",
   "metadata": {},
   "source": [
    "## Evaluación Final\n",
    "Ejecuta esta celda para verificar si tus respuestas son correctas mediante pruebas unitarias."
   ]
  },
  {
   "cell_type": "code",
   "execution_count": 56,
   "metadata": {},
   "outputs": [
    {
     "name": "stderr",
     "output_type": "stream",
     "text": [
      ".........\n",
      "----------------------------------------------------------------------\n",
      "Ran 9 tests in 0.006s\n",
      "\n",
      "OK\n"
     ]
    },
    {
     "data": {
      "text/plain": [
       "<unittest.main.TestProgram at 0x223767c1310>"
      ]
     },
     "execution_count": 56,
     "metadata": {},
     "output_type": "execute_result"
    }
   ],
   "source": [
    "import unittest\n",
    "\n",
    "class TestComprehensions(unittest.TestCase):\n",
    "    def test_list_comprehension(self):\n",
    "        self.assertEqual(lista_multiples, [10, 15, 20, 25, 30], 'Error en lista de múltiplos')\n",
    "        self.assertEqual(lista_dobles, [20, 30, 40, 50, 60, 4, 16, 32, 54, 72], 'Error en lista de dobles')\n",
    "\n",
    "    def test_dict_comprehension(self):\n",
    "        self.assertEqual(diccionario_dobles[5], 10, 'Error en mapeo de dobles')\n",
    "\n",
    "unittest.main(argv=[''], exit=False)"
   ]
  },
  {
   "cell_type": "markdown",
   "metadata": {},
   "source": [
    "# Sección 7: 1.2.7 Funciones Y Flujos"
   ]
  },
  {
   "cell_type": "markdown",
   "id": "1ae1ecc4",
   "metadata": {},
   "source": [
    "# Control de flujo y funciones en Python\n",
    "En esta tarea, exploraremos los conceptos básicos de control de flujo y funciones en Python a través de ejemplos prácticos y actividades. Asegúrate de ejecutar cada celda para comprender el comportamiento del código."
   ]
  },
  {
   "cell_type": "markdown",
   "id": "1c9673be",
   "metadata": {},
   "source": [
    "## Ejemplo 1: Condicionales\n",
    "El uso de `if`, `elif` y `else` nos permite tomar decisiones en base a condiciones específicas."
   ]
  },
  {
   "cell_type": "code",
   "execution_count": 57,
   "id": "add1840a",
   "metadata": {},
   "outputs": [
    {
     "name": "stdout",
     "output_type": "stream",
     "text": [
      "x es mayor que 5\n"
     ]
    }
   ],
   "source": [
    "x = 10\n",
    "if x > 5:\n",
    "    print(\"x es mayor que 5\")\n",
    "elif x == 5:\n",
    "    print(\"x es igual a 5\")\n",
    "else:\n",
    "    print(\"x es menor que 5\")"
   ]
  },
  {
   "cell_type": "markdown",
   "id": "b7066c48",
   "metadata": {},
   "source": [
    "## Ejemplo 2: Ciclo for\n",
    "El ciclo `for` se utiliza para iterar sobre una secuencia de elementos, como listas o rangos."
   ]
  },
  {
   "cell_type": "code",
   "execution_count": 58,
   "id": "253e6e19",
   "metadata": {},
   "outputs": [
    {
     "name": "stdout",
     "output_type": "stream",
     "text": [
      "Iteración 0\n",
      "Iteración 1\n",
      "Iteración 2\n",
      "Iteración 3\n",
      "Iteración 4\n"
     ]
    }
   ],
   "source": [
    "for i in range(5):\n",
    "    print(f\"Iteración {i}\")"
   ]
  },
  {
   "cell_type": "code",
   "execution_count": 59,
   "id": "9b0968ea",
   "metadata": {},
   "outputs": [
    {
     "name": "stdout",
     "output_type": "stream",
     "text": [
      "Hola, Juan!\n",
      "Hola, Ana!\n",
      "Hola, Luis!\n",
      "Hola, María!\n"
     ]
    }
   ],
   "source": [
    "# Conjunto de nombres\n",
    "nombres = [\"Juan\", \"Ana\", \"Luis\", \"María\"]\n",
    "\n",
    "# Imprimir los nombres\n",
    "for nombre in nombres:\n",
    "    print(f\"Hola, {nombre}!\")"
   ]
  },
  {
   "cell_type": "markdown",
   "id": "320728a8",
   "metadata": {},
   "source": [
    "## Ejemplo 3: Ciclo while\n",
    "El ciclo `while` ejecuta un bloque de código mientras una condición sea verdadera."
   ]
  },
  {
   "cell_type": "code",
   "execution_count": 60,
   "id": "22a6834f",
   "metadata": {},
   "outputs": [
    {
     "name": "stdout",
     "output_type": "stream",
     "text": [
      "Contador: 0\n",
      "Contador: 1\n",
      "Contador: 2\n"
     ]
    }
   ],
   "source": [
    "contador = 0\n",
    "while contador < 3:\n",
    "    print(f\"Contador: {contador}\")\n",
    "    contador += 1"
   ]
  },
  {
   "cell_type": "markdown",
   "id": "d068916a",
   "metadata": {},
   "source": [
    "## Ejemplo 4: Funciones\n",
    "Las funciones nos permiten encapsular lógica y reutilizar código."
   ]
  },
  {
   "cell_type": "code",
   "execution_count": 61,
   "id": "75478d9d",
   "metadata": {},
   "outputs": [
    {
     "name": "stdout",
     "output_type": "stream",
     "text": [
      "Hola, María!\n"
     ]
    }
   ],
   "source": [
    "def saludo(nombre):\n",
    "    return f\"Hola, {nombre}!\"\n",
    "\n",
    "print(saludo(\"María\"))"
   ]
  },
  {
   "cell_type": "code",
   "execution_count": 62,
   "id": "e064726e",
   "metadata": {},
   "outputs": [
    {
     "name": "stdout",
     "output_type": "stream",
     "text": [
      "50\n"
     ]
    }
   ],
   "source": [
    "# funcion con multiples parámetros\n",
    "def area_rectangulo(base, altura):\n",
    "    \"\"\"Calcula el área de un rectángulo.\"\"\"\n",
    "    return base * altura\n",
    "\n",
    "# Ejemplo de uso\n",
    "print(area_rectangulo(10, 5))  # Salida: 50"
   ]
  },
  {
   "cell_type": "code",
   "execution_count": 63,
   "id": "9c49df1d",
   "metadata": {},
   "outputs": [
    {
     "name": "stdout",
     "output_type": "stream",
     "text": [
      "¡Hola! María\n",
      "¡Buenos días! Luis\n"
     ]
    }
   ],
   "source": [
    "# función con argumentos predeterminados\n",
    "def saludo(nombre, mensaje=\"¡Hola!\"):\n",
    "    \"\"\"Muestra un saludo personalizado.\"\"\"\n",
    "    return f\"{mensaje} {nombre}\"\n",
    "\n",
    "# Ejemplo de uso\n",
    "print(saludo(\"María\"))  # Salida: ¡Hola! María\n",
    "print(saludo(\"Luis\", \"¡Buenos días!\"))  # Salida: ¡Buenos días! Luis"
   ]
  },
  {
   "cell_type": "code",
   "execution_count": 64,
   "id": "c0608437",
   "metadata": {},
   "outputs": [
    {
     "name": "stdout",
     "output_type": "stream",
     "text": [
      "15\n"
     ]
    }
   ],
   "source": [
    "'''Función con argumentos variables (*args)\n",
    "Permite recibir un número indefinido de argumentos.'''\n",
    "def sumar_todos(*numeros):\n",
    "    \"\"\"Suma todos los números proporcionados.\"\"\"\n",
    "    return sum(numeros)\n",
    "\n",
    "# Ejemplo de uso\n",
    "print(sumar_todos(1, 2, 3, 4, 5))  # Salida: 15"
   ]
  },
  {
   "cell_type": "code",
   "execution_count": 65,
   "id": "d4e7ae3d",
   "metadata": {},
   "outputs": [
    {
     "name": "stdout",
     "output_type": "stream",
     "text": [
      "nombre: Ana\n",
      "edad: 25\n",
      "ciudad: Guadalajara\n"
     ]
    }
   ],
   "source": [
    "'''Función con argumentos clave variables (**kwargs)\n",
    "Recibe un número indefinido de argumentos nombrados.\n",
    "'''\n",
    "def imprimir_informacion(**kwargs):\n",
    "    \"\"\"Imprime información de los argumentos proporcionados.\"\"\"\n",
    "    for clave, valor in kwargs.items():\n",
    "        print(f\"{clave}: {valor}\")\n",
    "\n",
    "# Ejemplo de uso\n",
    "imprimir_informacion(nombre=\"Ana\", edad=25, ciudad=\"Guadalajara\")"
   ]
  },
  {
   "cell_type": "code",
   "execution_count": 66,
   "id": "877ba28c",
   "metadata": {},
   "outputs": [
    {
     "name": "stdout",
     "output_type": "stream",
     "text": [
      "120\n"
     ]
    }
   ],
   "source": [
    "'''Función recursiva\n",
    "Una función que se llama a sí misma.'''\n",
    "def factorial(n):\n",
    "    \"\"\"Calcula el factorial de un número.\"\"\"\n",
    "    if n == 0 or n == 1:\n",
    "        return 1\n",
    "    return n * factorial(n - 1)\n",
    "\n",
    "# Ejemplo de uso\n",
    "print(factorial(5))  # Salida: 120\n"
   ]
  },
  {
   "cell_type": "markdown",
   "id": "624bb97b",
   "metadata": {},
   "source": [
    "# Actividad 1\n",
    "Crea una función llamada `es_par` que reciba un número entero como parámetro y regrese `True` si el número es par y `False` en caso contrario.\n",
    "\n",
    "Ejemplo de uso:\n",
    "```python\n",
    "print(es_par(4))  # Debería regresar True\n",
    "print(es_par(5))  # Debería regresar False\n",
    "```"
   ]
  },
  {
   "cell_type": "code",
   "execution_count": 67,
   "id": "a877f5e9",
   "metadata": {},
   "outputs": [
    {
     "name": "stdout",
     "output_type": "stream",
     "text": [
      "True\n",
      "False\n"
     ]
    }
   ],
   "source": [
    "# Escribe tu código aquí\n",
    "def es_par(numero):\n",
    "    return numero % 2 == 0\n",
    "print(es_par(6))  # Debería regresar True\n",
    "print(es_par(9))  # Debería regresar False"
   ]
  },
  {
   "cell_type": "markdown",
   "id": "6b66c951",
   "metadata": {},
   "source": [
    "# **Actividad 2 : Suma de una lista de números usando recursión**\n",
    "\n",
    "C        # Debería regresar 0\n",
    "```rea una función recursiva llamada `suma_lista` que reciba como parámetro una lista de números y regrese la suma de todos sus elementos.\n",
    "\n",
    "1. Si la lista está vacía, la suma debe ser 0.\n",
    "2. Si la lista no está vacía:\n",
    "   - Toma el primer elemento de la lista.\n",
    "   - Suma este elemento al resultado de llamar a la función recursivamente con el resto de la lista.\n",
    "\n",
    "### **Ejemplo de uso**\n",
    "```python\n",
    "print(suma_lista([1, 2, 3, 4, 5]))  # Debería regresar 15\n",
    "print(suma_lista([]))       "
   ]
  },
  {
   "cell_type": "code",
   "execution_count": 68,
   "id": "67af8b31",
   "metadata": {},
   "outputs": [
    {
     "name": "stdout",
     "output_type": "stream",
     "text": [
      "15\n",
      "0\n"
     ]
    }
   ],
   "source": [
    "def suma_lista(numeros):\n",
    "    if not numeros:  # Caso base: lista vacía\n",
    "        return 0\n",
    "    return numeros[0] + suma_lista(numeros[1:])  # Caso recursivo\n",
    "\n",
    "# Ejemplo de uso\n",
    "print(suma_lista([1, 2, 3, 4, 5]))  # Debería regresar 15\n",
    "print(suma_lista([]))               # Debería regresar 0"
   ]
  },
  {
   "cell_type": "markdown",
   "id": "2c6838a1",
   "metadata": {},
   "source": [
    "# Evaluación\n",
    "A continuación, se realizarán pruebas automáticas para verificar si las actividades fueron resueltas correctamente. Ejecuta la celda para comprobar tus respuestas."
   ]
  },
  {
   "cell_type": "code",
   "execution_count": 69,
   "id": "6310442e",
   "metadata": {},
   "outputs": [
    {
     "name": "stdout",
     "output_type": "stream",
     "text": [
      "Todas las pruebas pasaron exitosamente. ¡Buen trabajo!\n"
     ]
    }
   ],
   "source": [
    "# Pruebas\n",
    "def test():\n",
    "    # Prueba para es_par\n",
    "    assert es_par(4) == True, \"Error en es_par(4)\"\n",
    "    assert es_par(5) == False, \"Error en es_par(5)\"\n",
    "\n",
    "    # Prueba para suma_lista\n",
    "    assert suma_lista([1, 2, 3, 4]) == 10, \"Error en suma_lista([1, 2, 3, 4])\"\n",
    "    assert suma_lista([-1, 0, 1]) == 0, \"Error en suma_lista([-1, 0, 1])\"\n",
    "    \n",
    "    print(\"Todas las pruebas pasaron exitosamente. ¡Buen trabajo!\")\n",
    "\n",
    "test()"
   ]
  }
 ],
 "metadata": {
  "kernelspec": {
   "display_name": ".venv",
   "language": "python",
   "name": "python3"
  },
  "language_info": {
   "codemirror_mode": {
    "name": "ipython",
    "version": 3
   },
   "file_extension": ".py",
   "mimetype": "text/x-python",
   "name": "python",
   "nbconvert_exporter": "python",
   "pygments_lexer": "ipython3",
   "version": "3.13.1"
  }
 },
 "nbformat": 4,
 "nbformat_minor": 5
}

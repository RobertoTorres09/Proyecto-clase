{
 "cells": [
  {
   "cell_type": "code",
   "execution_count": 1,
   "metadata": {},
   "outputs": [
    {
     "ename": "TypeError",
     "evalue": "must be real number, not str",
     "output_type": "error",
     "traceback": [
      "\u001b[1;31m---------------------------------------------------------------------------\u001b[0m",
      "\u001b[1;31mTypeError\u001b[0m                                 Traceback (most recent call last)",
      "Cell \u001b[1;32mIn[1], line 15\u001b[0m\n\u001b[0;32m     12\u001b[0m x \u001b[38;5;241m=\u001b[39m LpVariable\u001b[38;5;241m.\u001b[39mdicts(\u001b[38;5;124m\"\u001b[39m\u001b[38;5;124mVehicle\u001b[39m\u001b[38;5;124m\"\u001b[39m, vehicles, cat\u001b[38;5;241m=\u001b[39m\u001b[38;5;124m\"\u001b[39m\u001b[38;5;124mBinary\u001b[39m\u001b[38;5;124m\"\u001b[39m)\n\u001b[0;32m     14\u001b[0m \u001b[38;5;66;03m# Definir la función objetivo: Minimizar el costo total de la flota\u001b[39;00m\n\u001b[1;32m---> 15\u001b[0m model \u001b[38;5;241m+\u001b[39m\u001b[38;5;241m=\u001b[39m \u001b[43mlpSum\u001b[49m\u001b[43m(\u001b[49m\u001b[43mdata\u001b[49m\u001b[43m[\u001b[49m\u001b[38;5;124;43m\"\u001b[39;49m\u001b[38;5;124;43mPriceinGermany\u001b[39;49m\u001b[38;5;124;43m\"\u001b[39;49m\u001b[43m]\u001b[49m\u001b[43m[\u001b[49m\u001b[43mi\u001b[49m\u001b[43m]\u001b[49m\u001b[43m \u001b[49m\u001b[38;5;241;43m*\u001b[39;49m\u001b[43m \u001b[49m\u001b[43mx\u001b[49m\u001b[43m[\u001b[49m\u001b[43mi\u001b[49m\u001b[43m]\u001b[49m\u001b[43m \u001b[49m\u001b[38;5;28;43;01mfor\u001b[39;49;00m\u001b[43m \u001b[49m\u001b[43mi\u001b[49m\u001b[43m \u001b[49m\u001b[38;5;129;43;01min\u001b[39;49;00m\u001b[43m \u001b[49m\u001b[43mvehicles\u001b[49m\u001b[43m)\u001b[49m\n\u001b[0;32m     17\u001b[0m \u001b[38;5;66;03m# Restricciones\u001b[39;00m\n\u001b[0;32m     18\u001b[0m model \u001b[38;5;241m+\u001b[39m\u001b[38;5;241m=\u001b[39m lpSum(x[i] \u001b[38;5;28;01mfor\u001b[39;00m i \u001b[38;5;129;01min\u001b[39;00m vehicles) \u001b[38;5;241m>\u001b[39m\u001b[38;5;241m=\u001b[39m \u001b[38;5;241m1\u001b[39m  \u001b[38;5;66;03m# Al menos un vehículo con aceleración < 5 seg\u001b[39;00m\n",
      "File \u001b[1;32mc:\\Users\\Dell\\Documents\\8vo Semestre\\Simulación matemática\\Proyecto clase\\.venv\\Lib\\site-packages\\pulp\\pulp.py:2370\u001b[0m, in \u001b[0;36mlpSum\u001b[1;34m(vector)\u001b[0m\n\u001b[0;32m   2356\u001b[0m \u001b[38;5;28;01mdef\u001b[39;00m\u001b[38;5;250m \u001b[39m\u001b[38;5;21mlpSum\u001b[39m(\n\u001b[0;32m   2357\u001b[0m     vector: (\n\u001b[0;32m   2358\u001b[0m         Iterable[LpAffineExpression]\n\u001b[1;32m   (...)\u001b[0m\n\u001b[0;32m   2363\u001b[0m     ),\n\u001b[0;32m   2364\u001b[0m ):\n\u001b[0;32m   2365\u001b[0m \u001b[38;5;250m    \u001b[39m\u001b[38;5;124;03m\"\"\"\u001b[39;00m\n\u001b[0;32m   2366\u001b[0m \u001b[38;5;124;03m    Calculate the sum of a list of linear expressions\u001b[39;00m\n\u001b[0;32m   2367\u001b[0m \n\u001b[0;32m   2368\u001b[0m \u001b[38;5;124;03m    :param vector: A list of linear expressions\u001b[39;00m\n\u001b[0;32m   2369\u001b[0m \u001b[38;5;124;03m    \"\"\"\u001b[39;00m\n\u001b[1;32m-> 2370\u001b[0m     \u001b[38;5;28;01mreturn\u001b[39;00m \u001b[43mLpAffineExpression\u001b[49m\u001b[43m(\u001b[49m\u001b[43m)\u001b[49m\u001b[38;5;241;43m.\u001b[39;49m\u001b[43maddInPlace\u001b[49m\u001b[43m(\u001b[49m\u001b[43mvector\u001b[49m\u001b[43m)\u001b[49m\n",
      "File \u001b[1;32mc:\\Users\\Dell\\Documents\\8vo Semestre\\Simulación matemática\\Proyecto clase\\.venv\\Lib\\site-packages\\pulp\\pulp.py:914\u001b[0m, in \u001b[0;36mLpAffineExpression.addInPlace\u001b[1;34m(self, other, sign)\u001b[0m\n\u001b[0;32m    911\u001b[0m         \u001b[38;5;28mself\u001b[39m\u001b[38;5;241m.\u001b[39maddInPlace(e, sign\u001b[38;5;241m=\u001b[39msign)\n\u001b[0;32m    912\u001b[0m \u001b[38;5;28;01melif\u001b[39;00m \u001b[38;5;28misinstance\u001b[39m(other, Iterable):\n\u001b[0;32m    913\u001b[0m     \u001b[38;5;66;03m# if a list, we add each element of the list\u001b[39;00m\n\u001b[1;32m--> 914\u001b[0m \u001b[43m    \u001b[49m\u001b[38;5;28;43;01mfor\u001b[39;49;00m\u001b[43m \u001b[49m\u001b[43me\u001b[49m\u001b[43m \u001b[49m\u001b[38;5;129;43;01min\u001b[39;49;00m\u001b[43m \u001b[49m\u001b[43mother\u001b[49m\u001b[43m:\u001b[49m\n\u001b[0;32m    915\u001b[0m \u001b[43m        \u001b[49m\u001b[38;5;28;43mself\u001b[39;49m\u001b[38;5;241;43m.\u001b[39;49m\u001b[43maddInPlace\u001b[49m\u001b[43m(\u001b[49m\u001b[43me\u001b[49m\u001b[43m,\u001b[49m\u001b[43m \u001b[49m\u001b[43msign\u001b[49m\u001b[38;5;241;43m=\u001b[39;49m\u001b[43msign\u001b[49m\u001b[43m)\u001b[49m\n\u001b[0;32m    916\u001b[0m \u001b[38;5;66;03m# if we're here, other must be a number\u001b[39;00m\n\u001b[0;32m    917\u001b[0m \u001b[38;5;66;03m# we check if it's an actual number:\u001b[39;00m\n",
      "Cell \u001b[1;32mIn[1], line 15\u001b[0m, in \u001b[0;36m<genexpr>\u001b[1;34m(.0)\u001b[0m\n\u001b[0;32m     12\u001b[0m x \u001b[38;5;241m=\u001b[39m LpVariable\u001b[38;5;241m.\u001b[39mdicts(\u001b[38;5;124m\"\u001b[39m\u001b[38;5;124mVehicle\u001b[39m\u001b[38;5;124m\"\u001b[39m, vehicles, cat\u001b[38;5;241m=\u001b[39m\u001b[38;5;124m\"\u001b[39m\u001b[38;5;124mBinary\u001b[39m\u001b[38;5;124m\"\u001b[39m)\n\u001b[0;32m     14\u001b[0m \u001b[38;5;66;03m# Definir la función objetivo: Minimizar el costo total de la flota\u001b[39;00m\n\u001b[1;32m---> 15\u001b[0m model \u001b[38;5;241m+\u001b[39m\u001b[38;5;241m=\u001b[39m lpSum(\u001b[43mdata\u001b[49m\u001b[43m[\u001b[49m\u001b[38;5;124;43m\"\u001b[39;49m\u001b[38;5;124;43mPriceinGermany\u001b[39;49m\u001b[38;5;124;43m\"\u001b[39;49m\u001b[43m]\u001b[49m\u001b[43m[\u001b[49m\u001b[43mi\u001b[49m\u001b[43m]\u001b[49m\u001b[43m \u001b[49m\u001b[38;5;241;43m*\u001b[39;49m\u001b[43m \u001b[49m\u001b[43mx\u001b[49m\u001b[43m[\u001b[49m\u001b[43mi\u001b[49m\u001b[43m]\u001b[49m \u001b[38;5;28;01mfor\u001b[39;00m i \u001b[38;5;129;01min\u001b[39;00m vehicles)\n\u001b[0;32m     17\u001b[0m \u001b[38;5;66;03m# Restricciones\u001b[39;00m\n\u001b[0;32m     18\u001b[0m model \u001b[38;5;241m+\u001b[39m\u001b[38;5;241m=\u001b[39m lpSum(x[i] \u001b[38;5;28;01mfor\u001b[39;00m i \u001b[38;5;129;01min\u001b[39;00m vehicles) \u001b[38;5;241m>\u001b[39m\u001b[38;5;241m=\u001b[39m \u001b[38;5;241m1\u001b[39m  \u001b[38;5;66;03m# Al menos un vehículo con aceleración < 5 seg\u001b[39;00m\n",
      "File \u001b[1;32mc:\\Users\\Dell\\Documents\\8vo Semestre\\Simulación matemática\\Proyecto clase\\.venv\\Lib\\site-packages\\pulp\\pulp.py:241\u001b[0m, in \u001b[0;36mLpElement.__rmul__\u001b[1;34m(self, other)\u001b[0m\n\u001b[0;32m    240\u001b[0m \u001b[38;5;28;01mdef\u001b[39;00m\u001b[38;5;250m \u001b[39m\u001b[38;5;21m__rmul__\u001b[39m(\u001b[38;5;28mself\u001b[39m, other):\n\u001b[1;32m--> 241\u001b[0m     \u001b[38;5;28;01mreturn\u001b[39;00m \u001b[43mLpAffineExpression\u001b[49m\u001b[43m(\u001b[49m\u001b[38;5;28;43mself\u001b[39;49m\u001b[43m)\u001b[49m\u001b[43m \u001b[49m\u001b[38;5;241;43m*\u001b[39;49m\u001b[43m \u001b[49m\u001b[43mother\u001b[49m\n",
      "File \u001b[1;32mc:\\Users\\Dell\\Documents\\8vo Semestre\\Simulación matemática\\Proyecto clase\\.venv\\Lib\\site-packages\\pulp\\pulp.py:976\u001b[0m, in \u001b[0;36mLpAffineExpression.__mul__\u001b[1;34m(self, other)\u001b[0m\n\u001b[0;32m    974\u001b[0m     \u001b[38;5;28;01mreturn\u001b[39;00m \u001b[38;5;28mself\u001b[39m \u001b[38;5;241m*\u001b[39m LpAffineExpression(other)\n\u001b[0;32m    975\u001b[0m \u001b[38;5;28;01melse\u001b[39;00m:\n\u001b[1;32m--> 976\u001b[0m     \u001b[38;5;28;01mif\u001b[39;00m \u001b[38;5;129;01mnot\u001b[39;00m \u001b[43mmath\u001b[49m\u001b[38;5;241;43m.\u001b[39;49m\u001b[43misfinite\u001b[49m\u001b[43m(\u001b[49m\u001b[43mother\u001b[49m\u001b[43m)\u001b[49m:\n\u001b[0;32m    977\u001b[0m         \u001b[38;5;28;01mraise\u001b[39;00m const\u001b[38;5;241m.\u001b[39mPulpError(\u001b[38;5;124m\"\u001b[39m\u001b[38;5;124mCannot multiply variables with NaN/inf values\u001b[39m\u001b[38;5;124m\"\u001b[39m)\n\u001b[0;32m    978\u001b[0m     \u001b[38;5;28;01melif\u001b[39;00m other \u001b[38;5;241m!=\u001b[39m \u001b[38;5;241m0\u001b[39m:\n",
      "\u001b[1;31mTypeError\u001b[0m: must be real number, not str"
     ]
    }
   ],
   "source": [
    "import pandas as pd\n",
    "from pulp import LpProblem, LpVariable, lpSum, LpMinimize, value\n",
    "\n",
    "# Cargar los datos del archivo CSV\n",
    "data = pd.read_csv(\"Cheapestelectriccars-EVDatabase 2023.csv\")\n",
    "\n",
    "# Crear el problema de optimización\n",
    "model = LpProblem(name=\"Fleet_Optimization\", sense=LpMinimize)\n",
    "\n",
    "# Crear variables binarias para cada vehículo\n",
    "vehicles = list(data.index)\n",
    "x = LpVariable.dicts(\"Vehicle\", vehicles, cat=\"Binary\")\n",
    "\n",
    "# Definir la función objetivo: Minimizar el costo total de la flota\n",
    "model += lpSum(data[\"PriceinGermany\"][i] * x[i] for i in vehicles)\n",
    "\n",
    "# Restricciones\n",
    "model += lpSum(x[i] for i in vehicles) >= 1  # Al menos un vehículo con aceleración < 5 seg\n",
    "model += lpSum(data[\"TopSpeed\"][i] * x[i] for i in vehicles) >= 200  # Velocidad máxima de la flota > 200 km/h\n",
    "model += lpSum(data[\"Range\"][i] * x[i] for i in vehicles) >= 500  # Autonomía combinada de la flota > 500 km\n",
    "model += lpSum(x[i] for i in vehicles if \"All Wheel Drive\" in data[\"Drive\"][i]) >= 1  # Al menos un vehículo con tracción en las cuatro ruedas\n",
    "model += lpSum(data[\"PriceinGermany\"][i] * x[i] for i in vehicles) >= 50000  # Precio total mínimo\n",
    "model += lpSum(data[\"PriceinGermany\"][i] * x[i] for i in vehicles) <= 70000  # Precio total máximo\n",
    "\n",
    "# Resolver el problema\n",
    "model.solve()\n",
    "\n",
    "# Mostrar la solución\n",
    "selected_vehicles = [i for i in vehicles if x[i].value() == 1]\n",
    "for i in selected_vehicles:\n",
    "    print(f\"Selected Vehicle: {data['Name'][i]}\")\n",
    "\n",
    "print(f\"Total Cost: {value(model.objective)}\")"
   ]
  }
 ],
 "metadata": {
  "kernelspec": {
   "display_name": ".venv",
   "language": "python",
   "name": "python3"
  },
  "language_info": {
   "codemirror_mode": {
    "name": "ipython",
    "version": 3
   },
   "file_extension": ".py",
   "mimetype": "text/x-python",
   "name": "python",
   "nbconvert_exporter": "python",
   "pygments_lexer": "ipython3",
   "version": "3.13.1"
  }
 },
 "nbformat": 4,
 "nbformat_minor": 2
}

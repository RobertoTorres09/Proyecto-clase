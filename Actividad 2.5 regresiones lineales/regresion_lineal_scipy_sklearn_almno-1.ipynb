{
 "cells": [
  {
   "cell_type": "markdown",
   "id": "a775c791",
   "metadata": {},
   "source": [
    "## Fundamentos Matemáticos de la Regresión Lineal\n",
    "\n",
    "La **regresión lineal** es un modelo estadístico que busca encontrar la mejor relación lineal entre una variable dependiente \\( y \\) y una o más variables independientes \\( X \\).\n",
    "\n",
    "El modelo se expresa como:\n",
    "\n",
    "$$ y = \\beta_0 + \\beta_1 X + \\epsilon $$\n",
    "\n",
    "Donde:\n",
    "- \\( y \\) es la variable dependiente.\n",
    "- \\( X \\) es la variable independiente.\n",
    "- \\( beta_0 \\) es el intercepto (término independiente).\n",
    "- \\( beta_1 \\) es la pendiente del modelo.\n",
    "- \\( epsilon \\) es un término de error aleatorio (opcional).\n",
    "\n",
    "El objetivo de la regresión lineal es encontrar los valores óptimos de \\( beta_0 \\) y \\( beta_1 \\) que minimicen la diferencia entre los valores predichos y los valores reales.\n",
    "\n",
    "ϵ es el término de error o residuo, que representa la diferencia entre los valores reales \n",
    "𝑦\n",
    "y y los valores predichos por el modelo."
   ]
  },
  {
   "cell_type": "markdown",
   "id": "29a34f7b",
   "metadata": {},
   "source": [
    "# Intercepto y Pendiente en Regresión Lineal\n",
    "\n",
    "En la **regresión lineal**, la relación entre una variable dependiente \\( y \\) y una variable independiente \\( X \\) se modela con la ecuación:\n",
    "\n",
    "$$\n",
    "y = \\beta_0 + \\beta_1 X + \\epsilon\n",
    "$$\n",
    "\n",
    "Donde:\n",
    "\n",
    "- \\( y \\) es la variable dependiente (lo que queremos predecir).\n",
    "- \\( X \\) es la variable independiente (predictor).\n",
    "- \\( \\beta_0 \\) es el **intercepto**.\n",
    "- \\( \\beta_1 \\) es la **pendiente**.\n",
    "- \\( \\epsilon \\) es el **error**.\n",
    "\n",
    "---\n",
    "\n",
    "## **1️⃣ Intercepto \\( beta_0 \\)**\n",
    "\n",
    "El **intercepto** representa el valor de \\( y \\) cuando \\( X = 0 \\). Es el punto donde la línea de regresión cruza el eje \\( y \\).\n",
    "\n",
    "Si el modelo es:\n",
    "\n",
    "$$\n",
    "y = 5 + 2X\n",
    "$$\n",
    "\n",
    "- Cuando \\( X = 0 \\), entonces \\( y = 5 \\).\n",
    "- Esto significa que si la variable independiente es cero, la variable dependiente tendrá un valor de **5**.\n",
    "\n",
    "### **Ejemplo Real**\n",
    "Si estamos prediciendo el salario en función de los años de experiencia:\n",
    "\n",
    "$$\n",
    "\\text{Salario} = 20,000 + 3,000 \\times \\text{Años de experiencia}\n",
    "$$\n",
    "\n",
    "Aquí:\n",
    "- **El intercepto \\( 20,000 \\)** significa que una persona con **0 años de experiencia** tendrá un salario base de **20,000**.\n",
    "\n",
    "---\n",
    "\n",
    "## **2️⃣ Pendiente \\( beta_1 \\)**\n",
    "\n",
    "La **pendiente** indica cuánto cambia \\( y \\) cuando \\( X \\) aumenta en una unidad.\n",
    "\n",
    "$$\n",
    "\\beta_1 = \\frac{\\Delta y}{\\Delta X}\n",
    "$$\n",
    "\n",
    "Si el modelo es:\n",
    "\n",
    "$$\n",
    "y = 5 + 2X\n",
    "$$\n",
    "\n",
    "- La pendiente es **2**, lo que significa que **por cada aumento de 1 en \\( X \\)**, \\( y \\) **aumenta en 2**.\n",
    "\n",
    "### **Ejemplo Real**\n",
    "En el modelo de salario:\n",
    "\n",
    "$$\n",
    "\\text{Salario} = 20,000 + 3,000 \\times \\text{Años de experiencia}\n",
    "$$\n",
    "\n",
    "- **La pendiente \\( 3,000 \\)** significa que **por cada año adicional de experiencia**, el salario esperado **aumenta en 3,000**.\n",
    "\n",
    "---\n"
   ]
  },
  {
   "cell_type": "markdown",
   "id": "a896a2d2",
   "metadata": {},
   "source": [
    "## Función de Costo en Regresión Lineal\n",
    "\n",
    "Para encontrar los coeficientes óptimos \\( beta_0 \\) y \\( beta_1 \\), utilizamos una función de costo que mida el error entre las predicciones del modelo y los valores reales.\n",
    "\n",
    "La función de costo más común es la de **mínimos cuadrados**, que se define como:\n",
    "\n",
    "$$ J(\\mathbf{\\beta}) = \\frac{1}{n} \\sum_{i=1}^{n} (y_i - (\\beta_0 + \\beta_1 X_i))^2 $$\n",
    "\n",
    "Esta función representa el error cuadrático medio entre los valores observados \\( y_i \\) y los valores predichos por el modelo \n",
    "$$ y_i - (\\beta_0 + \\beta_1 X_i) $$\n",
    "\n",
    "Minimizar esta función nos permite encontrar los valores óptimos de $$ \\mathbf{\\beta} $$ que mejor se ajustan a los datos."
   ]
  },
  {
   "cell_type": "markdown",
   "id": "9c96f359",
   "metadata": {},
   "source": [
    "## Solución por Mínimos Cuadrados\n",
    "\n",
    "La minimización de la función de costo se puede hacer de manera analítica utilizando la ecuación normal:\n",
    "\n",
    "$$ \\mathbf{\\beta} = (X^T X)^{-1} X^T y $$\n",
    "\n",
    "El vector de coeficientes beta es igual al inverso del producto de la transpuesta de X por X, multiplicado por la transpuesta de X y luego por el vector de respuestas y\n",
    "\n",
    "Donde:\n",
    "- \\( X \\) es la matriz de diseño que contiene las variables independientes (con una columna de unos para el intercepto).\n",
    "- \\( y \\) es el vector de valores observados.\n",
    "- \\( beta \\) es el vector de coeficientes estimados.\n",
    "\n",
    "Este método nos da una solución cerrada para los coeficientes de la regresión. Sin embargo, también podemos resolver el problema utilizando **optimización numérica** con `scipy.optimize.minimize`."
   ]
  },
  {
   "cell_type": "markdown",
   "id": "4ee3b6f8",
   "metadata": {},
   "source": [
    "## Función de Costo y Optimización en Regresión Lineal\n",
    "\n",
    "En un problema de regresión lineal, buscamos los coeficientes óptimos minimizando una función de costo. La más común es la de **mínimos cuadrados**:\n",
    "\n",
    "$$ J(\\beta) = \\frac{1}{n} \\sum_{i=1}^{n} (Y_i - X_i \\beta)^2 $$\n",
    "\n",
    "En esta actividad, implementaremos un modelo que minimice esta función utilizando `scipy.optimize.minimize` y validaremos los resultados contra `sklearn.linear_model.LinearRegression`."
   ]
  },
  {
   "cell_type": "markdown",
   "id": "7757f72b",
   "metadata": {},
   "source": [
    "### Visualización de Datos\n",
    "\n",
    "Antes de entrenar el modelo, analizamos visualmente la relación entre las variables."
   ]
  },
  {
   "cell_type": "code",
   "execution_count": null,
   "id": "907a17c9",
   "metadata": {},
   "outputs": [],
   "source": [
    "import numpy as np\n",
    "import matplotlib.pyplot as plt\n",
    "\n",
    "# Generar datos sintéticos\n",
    "np.random.seed(42)\n",
    "X = 2 * np.random.rand(100, 1)\n",
    "y = 4 + 3 * X + np.random.randn(100, 1)\n",
    "\n",
    "# Visualización\n",
    "plt.scatter(X, y, alpha=0.6)\n",
    "plt.xlabel('X')\n",
    "plt.ylabel('Y')\n",
    "plt.title('Visualización de Datos')\n",
    "plt.show()"
   ]
  },
  {
   "cell_type": "markdown",
   "id": "376713d4",
   "metadata": {},
   "source": [
    "### Solución a igualar"
   ]
  },
  {
   "cell_type": "code",
   "execution_count": null,
   "id": "410d4275",
   "metadata": {},
   "outputs": [],
   "source": [
    "# Validación con sklearn\n",
    "from sklearn.linear_model import LinearRegression\n",
    "lin_reg = LinearRegression()\n",
    "lin_reg.fit(X, y)\n",
    "print(f'Ecuación de sklearn: y = {lin_reg.intercept_[0]:.2f} + {lin_reg.coef_[0][0]:.2f}X')"
   ]
  },
  {
   "cell_type": "code",
   "execution_count": null,
   "id": "ecf05fc4",
   "metadata": {},
   "outputs": [],
   "source": [
    "# Mostrando gráfico\n",
    "plt.scatter(X,y,color='red')\n",
    "plt.plot(X,lin_reg.predict(X),color='green')\n",
    "plt.title('Simple Linear Regression')\n",
    "plt.xlabel('X') # Funciona como variable independiente\n",
    "plt.ylabel('y') # Variable a predecir o independiente\n",
    "plt.show()"
   ]
  },
  {
   "cell_type": "markdown",
   "id": "ff594008",
   "metadata": {},
   "source": [
    "## Ejercicio 1: Implementación de Regresión Lineal con scipy.optimize.minimize\n",
    "Observa que \n",
    "- Ya tienes definida X e y.\n",
    "- Te ayudé con la definición de tu beta inicial.\n",
    "\n",
    "Qué harás?\n",
    "- Define la función de costo"
   ]
  },
  {
   "cell_type": "code",
   "execution_count": null,
   "id": "9ab9dc55",
   "metadata": {},
   "outputs": [],
   "source": [
    "import numpy as np\n",
    "from scipy.optimize import minimize\n",
    "\n",
    "# Generar datos sintéticos\n",
    "np.random.seed(42)\n",
    "X=np.random.uniform(-np.pi*3/4,np.pi,100)\n",
    "X.sort()\n",
    "y=np.sin(X)+np.random.uniform(-0.5,0.5,100)\n",
    "\n",
    "# Agregar columna de unos para el intercepto\n",
    "X_b = np.c_[np.ones((X.shape[0], 1)), X]\n",
    "\n",
    "# Definir la función de costo\n",
    "def criterio_opt(beta, X, y):\n",
    "    # completa esta función y su retorno\n",
    "    return\n",
    "\n",
    "# Estimación de parámetros con optimización\n",
    "beta_inicial = np.zeros(X_b.shape[1])\n",
    "resultado = minimize(criterio_opt, beta_inicial, args=(X_b, y), method='BFGS')\n",
    "\n",
    "# Coeficientes óptimos obtenidos\n",
    "beta_optimo = resultado.x\n",
    "print(f'Coeficientes óptimos: Intercepto = {beta_optimo[0]:.4f}, Pendiente = {beta_optimo[1]:.7f}')\n",
    "print(f'Ecuación y = {beta_optimo[0]:.2f} + {beta_optimo[1]:.7f}X')"
   ]
  },
  {
   "cell_type": "code",
   "execution_count": null,
   "id": "f23bdf8a",
   "metadata": {},
   "outputs": [],
   "source": [
    "X_b"
   ]
  },
  {
   "cell_type": "code",
   "execution_count": null,
   "id": "22215222",
   "metadata": {},
   "outputs": [],
   "source": [
    "# Observa la forma de beta inicial\n",
    "beta_inicial"
   ]
  },
  {
   "cell_type": "code",
   "execution_count": null,
   "id": "d289b4a3",
   "metadata": {},
   "outputs": [],
   "source": [
    "# Solución visual\n",
    "plt.scatter(X,y,s=5)\n",
    "f=# Completa f para visualizar los datos\n",
    "plt.plot(X,f,'r')\n",
    "plt.grid()"
   ]
  },
  {
   "cell_type": "markdown",
   "id": "33608f7b",
   "metadata": {},
   "source": [
    "## Ejercicio 2: Implementación de Regresión Lineal con scipy.optimize.minimize abstrayendo el concepto en una clase. \n",
    "\n",
    "Implementa la siguiente clase `RegresionLineal`, donde debes:\n",
    "\n",
    "1. **Definir la función de costo** basada en mínimos cuadrados.\n",
    "2. **Implementar el método `fit()` usando `scipy.optimize.minimize`**. El método debe encontrar los coeficientes óptimos.\n",
    "3. **Incluir un método `visualizar()` para graficar la recta ajustada**.\n",
    "4. **Implementar un método `predecir()`** para realizar predicciones.\n",
    "5. **Definir un método `mostrar_ecuacion()`** para imprimir la ecuación ajustada.\n",
    "6. **Comparar los resultados con `sklearn.linear_model.LinearRegression`**.\n",
    "7. Prueba todos los métodos con X e y definidos anterioremente. "
   ]
  },
  {
   "cell_type": "code",
   "execution_count": null,
   "id": "530c0965",
   "metadata": {},
   "outputs": [],
   "source": [
    "import numpy as np\n",
    "import matplotlib.pyplot as plt\n",
    "from scipy.optimize import minimize\n",
    "\n",
    "class RegresionLineal:\n",
    "    def __init__(self, X, y):\n",
    "        self.X = np.c_[np.ones((X.shape[0], 1)), X]  # Agregar columna de 1s\n",
    "        self.y = y\n",
    "        self.theta = None\n",
    "\n",
    "    def funcion_costo(self, theta):\n",
    "        \"\"\"Función de costo basada en mínimos cuadrados.\"\"\"\n",
    "        #Completa la función de costo\n",
    "        return\n",
    "\n",
    "    def fit(self):\n",
    "        \"\"\"Ajusta los coeficientes usando scipy.optimize.minimize.\"\"\"\n",
    "        theta_inicial = np.zeros(self.X.shape[1])\n",
    "        resultado = minimize(self.funcion_costo, theta_inicial, method='BFGS')\n",
    "        self.theta = resultado.x\n",
    "\n",
    "    def visualizar(self):\n",
    "        \"\"\"Grafica los datos junto con la recta ajustada.\"\"\"\n",
    "        # Completa el código para gráficar\n",
    "\n",
    "    def predecir(self, X_nuevo):\n",
    "        \"\"\"Realiza una predicción para nuevos valores de entrada.\"\"\"\n",
    "        # Completa el código para realizar una predicción de nuevos valores\n",
    "\n",
    "    def mostrar_ecuacion(self):\n",
    "        \"\"\"Imprime la ecuación de la regresión lineal.\"\"\"\n",
    "        # Completa el código para mostrar la ecuación"
   ]
  },
  {
   "cell_type": "markdown",
   "id": "d2bfc6f0",
   "metadata": {},
   "source": [
    "### Prueba tu clase!"
   ]
  },
  {
   "cell_type": "code",
   "execution_count": null,
   "id": "1d7932d2",
   "metadata": {},
   "outputs": [],
   "source": [
    "# Generar datos sintéticos para probar la clase RegresionLineal\n",
    "\n",
    "# Crear datos simulados\n",
    "# Generar datos sintéticos\n",
    "np.random.seed(42)\n",
    "X=np.random.uniform(-np.pi*3/4,np.pi,100)\n",
    "X.sort()\n",
    "y=np.sin(X)+np.random.uniform(-0.5,0.5,100)\n"
   ]
  },
  {
   "cell_type": "code",
   "execution_count": null,
   "id": "a2b50ec2",
   "metadata": {},
   "outputs": [],
   "source": [
    "# Crear una instancia de la clase\n",
    "modelo = RegresionLineal(X, y)\n",
    "\n",
    "# Ajustar el modelo\n",
    "modelo.fit()\n",
    "modelo.theta"
   ]
  },
  {
   "cell_type": "code",
   "execution_count": null,
   "id": "ba16a7ad",
   "metadata": {},
   "outputs": [],
   "source": [
    "# Mostrar la ecuación obtenida\n",
    "modelo.mostrar_ecuacion()"
   ]
  },
  {
   "cell_type": "code",
   "execution_count": null,
   "id": "e8321de9",
   "metadata": {},
   "outputs": [],
   "source": [
    "# Visualizar el ajuste del modelo\n",
    "modelo.visualizar()"
   ]
  },
  {
   "cell_type": "code",
   "execution_count": null,
   "id": "4325fe55",
   "metadata": {},
   "outputs": [],
   "source": [
    "# Hacer predicciones con nuevos valores\n",
    "X_nuevo = np.array([[0], [1.5], [2]])\n",
    "y_pred = modelo.predecir(X_nuevo)\n",
    "\n",
    "# Mostrar predicciones\n",
    "list(zip(X_nuevo.flatten(), y_pred.flatten()))"
   ]
  },
  {
   "cell_type": "markdown",
   "id": "be3189bf",
   "metadata": {},
   "source": [
    "## Ejercicio 3: Aplicación a Datos de Kaggle\n",
    "\n",
    "Busca tres conjuntos de datos en Kaggle donde puedas aplicar regresión lineal. \n",
    "\n",
    "Sugerencias \n",
    "### Boston Housing 🏠\n",
    "\n",
    "Búscalo en Kaggle o en repositorios de datos de código abierto.\n",
    "\n",
    "### Auto MPG 🚗\n",
    "\n",
    "Lo puedes descargar desde el UCI Machine Learning Repository buscando \"Auto MPG dataset\".\n",
    "También está en Kaggle.\n",
    "\n",
    "### Wine Quality 🍷\n",
    "\n",
    "Búscalo en el UCI Machine Learning Repository o en Kaggle con el nombre \"Wine Quality Dataset\".\n",
    "Salary Dataset 💰\n",
    "\n",
    "### En Kaggle puedes buscar \"Salary Prediction Dataset\" o \"Experience vs Salary\".\n",
    "\n",
    "## Para cada conjunto de datos, debes:\n",
    "\n",
    "1. Cargar los datos.\n",
    "2. Entrenar el modelo usando la clase `RegresionLineal`.\n",
    "3. Comparar los resultados con `sklearn.LinearRegression`.\n",
    "4. Visualizar la relación entre las variables.\n",
    "5. Mostrar la ecuación de regresión obtenida.\n",
    "6. Realizar predicciones con datos nuevos."
   ]
  },
  {
   "cell_type": "code",
   "execution_count": null,
   "id": "94d879cd",
   "metadata": {},
   "outputs": [],
   "source": []
  },
  {
   "cell_type": "markdown",
   "id": "9b7c5906",
   "metadata": {},
   "source": [
    "## Ejercicio 4\n",
    "Analiza la precisión del modelo en cada caso y comparte tus conclusiones (Busca como hacerlo)\n",
    "- Coeficiente de Determinación (R^2)\n",
    "- MSE\n",
    "- RMSE\n",
    "- MAE\n",
    "\n",
    "Concluye qué tan bueno es cada modelo. "
   ]
  },
  {
   "cell_type": "code",
   "execution_count": null,
   "id": "82d69ad9",
   "metadata": {},
   "outputs": [],
   "source": []
  }
 ],
 "metadata": {
  "kernelspec": {
   "display_name": ".venv",
   "language": "python",
   "name": "python3"
  },
  "language_info": {
   "codemirror_mode": {
    "name": "ipython",
    "version": 3
   },
   "file_extension": ".py",
   "mimetype": "text/x-python",
   "name": "python",
   "nbconvert_exporter": "python",
   "pygments_lexer": "ipython3",
   "version": "3.13.1"
  }
 },
 "nbformat": 4,
 "nbformat_minor": 5
}

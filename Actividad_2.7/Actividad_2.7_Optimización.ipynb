{
 "cells": [
  {
   "cell_type": "markdown",
   "metadata": {
    "id": "8vITRYq-Tdwq"
   },
   "source": [
    "# Optimización de funciones escalares diferenciables con `SymPy`\n",
    "\n",
    "<img style=\"float: right; margin: 0px 0px 15px 15px;\" src=\"https://upload.wikimedia.org/wikipedia/commons/thumb/b/b6/Extrema_example_es.svg/1200px-Extrema_example_es.svg.png\" width=\"300px\" height=\"100px\" />\n",
    "\n",
    "- Mediante optimización se obtienen soluciones elegantes tanto en teoría como en ciertas aplicaciones.\n",
    "- La teoría de optimización usa elementos comenzando con cálculo elemental y álgebra lineal básica, y luego se extiende con análisis funcional y convexo.\n",
    "- Las aplicaciones en optimización involucran ciencia, ingeniería, economía, finanzas e industria.\n",
    "- El amplio y creciente uso de la optimización lo hace escencial para estudiantes y profesionales de cualquier rama de la ciencia y la tecnología.\n",
    "\n",
    "**Referencia:**\n",
    "- http://www.math.uwaterloo.ca/~hwolkowi//henry/reports/talks.d/t06talks.d/06msribirs.d/optimportance.shtml\n",
    "\n"
   ]
  },
  {
   "cell_type": "markdown",
   "metadata": {
    "id": "gTdZipcKTdwz"
   },
   "source": [
    "<img style=\"float: right; margin: 0px 0px 15px 15px;\" src=\"https://upload.wikimedia.org/wikipedia/commons/thumb/e/e7/OpenStreetMap_routing_service.png/300px-OpenStreetMap_routing_service.png\" width=\"300px\" height=\"100px\" />\n",
    "\n",
    "### Algunas aplicaciones son:\n",
    "\n",
    "1. **Ingeniería:**\n",
    " - Encontrar la composición de equilibrio de una mezcla de diferentes átomos.\n",
    " - Planeación de ruta para un robot (o vehículo aéreo no tripulado).\n",
    " - Planeación de la mano de obra óptima en una construcción o planta de producción.\n",
    " - Análisis conformacional - Isomería conformacional en modelado molecular\n",
    " - Desempeño en fermentación de productos.\n",
    " - Estimación de parámetros en bioquímica e ingeniería metabólica.\n",
    "\n",
    "\n",
    "2. **Distribución óptima de recursos:**\n",
    " - Distribución de rutas de vuelo.\n",
    " - Encontrar una dieta óptima.\n",
    " - Planeación de ruta óptima.\n",
    "\n",
    "\n",
    "3. **Optimización financiera:**\n",
    " - Administración de riesgos.\n",
    " - Portafolios de inversión.\n",
    " - Problema de maximización de la utilidad.\n",
    " - la calibración de modelos de precios de opciones para datos de mercado\n",
    " - la optimización de la función de utilidad de un agente"
   ]
  },
  {
   "cell_type": "markdown",
   "metadata": {
    "id": "iwfHYBvETdw5"
   },
   "source": [
    "### <p style=\"color:green;\">En esta clase veremos aspectos básicos de optimización. Específicamente, veremos cómo obtener máximos y mínimos de una función escalar de una variable (como en cálculo diferencial).</p>\n",
    "\n",
    "<img style=\"float: center\" src=\"https://matematicasies.com/local/cache-vignettes/L337xH278/extremos-77d0a.png\" width=\"400px\" height=\"200px\" />"
   ]
  },
  {
   "cell_type": "markdown",
   "metadata": {
    "id": "5cHqWJmcTd3A"
   },
   "source": [
    "### Criterio de la segunda derivada\n",
    "\n",
    "Sea $f(x)$ una función tal que $f'(c)=0$ y cuya segunda derivada existe en un intervalo abierto que contiene a $c$.\n",
    "- Si $f''(c)>0$, entonces $f(c)$ es un mínimo relativo.\n",
    "- Si $f''(c)<0$, entonces $f(c)$ es un máximo relativo.\n",
    "- Si $f''(c)=0$, entonces el criterio no decide."
   ]
  },
  {
   "cell_type": "markdown",
   "metadata": {
    "id": "O8veHX8PTdzJ"
   },
   "source": [
    "### Metodología\n",
    "1. Definir el criterio de optimización.\n",
    "    1. Definiendo una variable simbólica o\n",
    "    2. desde el entorno `def`.\n",
    "2. Derivar la función a optimizar.\n",
    "3. Encontrar la raíz de la derivada.\n",
    "4. Definir qué puntos son máximos o mínimos.\n",
    "    1. Usando el criterio de la segunda derivada o\n",
    "    2. evaluando numéricamente (método gráfico)."
   ]
  },
  {
   "cell_type": "markdown",
   "metadata": {
    "id": "ZEUcqZoPTdzO"
   },
   "source": [
    "### Ejemplo\n",
    "\n",
    "Encontrar el minimo o maximo en la función $f(x)=(x-2)^2$"
   ]
  },
  {
   "cell_type": "code",
   "execution_count": 77,
   "metadata": {},
   "outputs": [],
   "source": [
    "# Librerías necesarias\n",
    "import sympy as sym\n",
    "import numpy as np\n",
    "from IPython.display import display, Markdown"
   ]
  },
  {
   "cell_type": "code",
   "execution_count": 78,
   "metadata": {},
   "outputs": [
    {
     "name": "stdout",
     "output_type": "stream",
     "text": [
      "Derivada con respecto a x:\n"
     ]
    },
    {
     "data": {
      "text/latex": [
       "$\\displaystyle 2 x - 4$"
      ],
      "text/plain": [
       "2*x - 4"
      ]
     },
     "metadata": {},
     "output_type": "display_data"
    }
   ],
   "source": [
    "# Paso 1. Definimos el criterio de optimización.\n",
    "#\n",
    "x = sym.var('x') # Definimos la variable con respecto a la cual optimizaremos\n",
    "f=(x-2)**2   # Inciso A. Definiendo una variable simbólica\n",
    "\n",
    "# Paso 2. Derivar la función a optimizar.\n",
    "df=sym.diff(f,x) # Derivamos 'f' con respecto a 'x' (si existe una sola vareiable simbólica, ésta se puede omitir)\n",
    "print(\"Derivada con respecto a x:\")\n",
    "display(df)"
   ]
  },
  {
   "cell_type": "code",
   "execution_count": 79,
   "metadata": {},
   "outputs": [
    {
     "data": {
      "text/markdown": [
       "Encontrar el valor de x0: 2"
      ],
      "text/plain": [
       "<IPython.core.display.Markdown object>"
      ]
     },
     "metadata": {},
     "output_type": "display_data"
    }
   ],
   "source": [
    "# Paso 3. Encontrar la raíz de la derivada.\n",
    "x0=sym.solve(df,x)[0] # (También se puede omitir la variable simólica)\n",
    "display(Markdown(f\"Encontrar el valor de x0: {x0}\"))"
   ]
  },
  {
   "cell_type": "code",
   "execution_count": 80,
   "metadata": {},
   "outputs": [
    {
     "data": {
      "text/latex": [
       "$\\displaystyle 2$"
      ],
      "text/plain": [
       "2"
      ]
     },
     "execution_count": 80,
     "metadata": {},
     "output_type": "execute_result"
    }
   ],
   "source": [
    "# Paso 4. Definir qué puntos son máximos o mínimos.\n",
    "d2f=sym.diff(df) # Inciso A. Usando el criterio de la segunda derivada (derivando la primer derivada).\n",
    "d2f"
   ]
  },
  {
   "cell_type": "markdown",
   "metadata": {},
   "source": [
    "El 2 es positivo, por tanto es un minimo. "
   ]
  },
  {
   "cell_type": "code",
   "execution_count": 81,
   "metadata": {},
   "outputs": [
    {
     "data": {
      "text/latex": [
       "$\\displaystyle 2$"
      ],
      "text/plain": [
       "2"
      ]
     },
     "execution_count": 81,
     "metadata": {},
     "output_type": "execute_result"
    }
   ],
   "source": [
    "f=(x-2)**2 \n",
    "sym.diff(f,x,2) # (Derivando la función dos veces)\n",
    "#sym.diff(f,x,x) # Es lo mismo"
   ]
  },
  {
   "cell_type": "markdown",
   "metadata": {
    "id": "LcOnPC6Z2x6S"
   },
   "source": [
    "**Conclusión:**\n",
    "\n",
    "Encontramos un mínimo global en $x=2$ para $f(x)=(x-2)^2$, donde $f(x)|_{x=2}=0$.\n",
    "\n",
    "---"
   ]
  },
  {
   "cell_type": "markdown",
   "metadata": {},
   "source": [
    "### Ejemplo Visualización"
   ]
  },
  {
   "cell_type": "code",
   "execution_count": 82,
   "metadata": {},
   "outputs": [],
   "source": [
    "# Instalación de dependencias\n",
    "#%pip install ipywidgets\n",
    "#%pip install matplotlib"
   ]
  },
  {
   "cell_type": "code",
   "execution_count": 83,
   "metadata": {},
   "outputs": [
    {
     "data": {
      "image/png": "[encoded data removed]",
      "text/plain": [
       "<Figure size 800x500 with 1 Axes>"
      ]
     },
     "metadata": {},
     "output_type": "display_data"
    }
   ],
   "source": [
    "import numpy as np\n",
    "import matplotlib.pyplot as plt\n",
    "\n",
    "# Definir la función\n",
    "def f(x):\n",
    "    return (x - 2) ** 2\n",
    "\n",
    "# Crear valores de x\n",
    "x = np.linspace(-2, 6, 400)\n",
    "y = f(x)\n",
    "\n",
    "# Graficar la función\n",
    "plt.figure(figsize=(8, 5))\n",
    "plt.plot(x, y, label=r\"$f(x) = (x-2)^2$\", color=\"blue\")\n",
    "plt.axhline(0, color=\"black\", linewidth=0.5)\n",
    "plt.axvline(0, color=\"black\", linewidth=0.5)\n",
    "plt.grid(True, linestyle=\"--\", linewidth=0.5)\n",
    "plt.title(\"Gráfica de $f(x) = (x-2)^2$\")\n",
    "plt.xlabel(\"$x$\")\n",
    "plt.ylabel(\"$f(x)$\")\n",
    "plt.legend()\n",
    "plt.show()\n"
   ]
  },
  {
   "cell_type": "markdown",
   "metadata": {
    "id": "nJKkfvTVTd2y"
   },
   "source": [
    "### Ejemplo\n",
    "Considere $g(x)=(x-2)^3$.\n",
    "- Usando `sympy`, muestre que $g'(2)=0$.\n",
    "- Sin embargo, descartar que $x=2$ es un extremo de $g(x)$ viendo su **gráfica**."
   ]
  },
  {
   "cell_type": "code",
   "execution_count": 84,
   "metadata": {
    "colab": {
     "base_uri": "https://localhost:8080/"
    },
    "executionInfo": {
     "elapsed": 214,
     "status": "ok",
     "timestamp": 1725463582592,
     "user": {
      "displayName": "Carlos Arellano",
      "userId": "03055712073717640513"
     },
     "user_tz": 360
    },
    "id": "aUErJxXjTd21",
    "outputId": "0100da8e-5e80-4009-fd62-048afdca52b3"
   },
   "outputs": [
    {
     "data": {
      "text/latex": [
       "$\\displaystyle 2$"
      ],
      "text/plain": [
       "2"
      ]
     },
     "execution_count": 84,
     "metadata": {},
     "output_type": "execute_result"
    }
   ],
   "source": [
    "x=sym.var('x')   # Definimos la variable simbólica\n",
    "g=(x-2)**3       # Definimos la función\n",
    "dg=sym.diff(g,x) # Derivamos\n",
    "x0=sym.solve(dg)[0]  # Encontramos las raíces de la derivada\n",
    "x0"
   ]
  },
  {
   "cell_type": "code",
   "execution_count": 85,
   "metadata": {},
   "outputs": [
    {
     "data": {
      "text/latex": [
       "$\\displaystyle 6 x - 12$"
      ],
      "text/plain": [
       "6*x - 12"
      ]
     },
     "execution_count": 85,
     "metadata": {},
     "output_type": "execute_result"
    }
   ],
   "source": [
    "d2g=sym.diff(dg) # Segunda derivada\n",
    "d2g"
   ]
  },
  {
   "cell_type": "code",
   "execution_count": 86,
   "metadata": {},
   "outputs": [
    {
     "data": {
      "text/latex": [
       "$\\displaystyle 0$"
      ],
      "text/plain": [
       "0"
      ]
     },
     "execution_count": 86,
     "metadata": {},
     "output_type": "execute_result"
    }
   ],
   "source": [
    "d2g.subs(x,x0) # Evaluamos 'x' en el primer punto crítico"
   ]
  },
  {
   "cell_type": "markdown",
   "metadata": {},
   "source": [
    "Como la segunda derivada evaluada en el punto crítico es cero, este criterio no es concluyente, así que usamos el método gráfico. (Analizar la concavidad con la primera derivada)"
   ]
  },
  {
   "cell_type": "code",
   "execution_count": 87,
   "metadata": {
    "colab": {
     "base_uri": "https://localhost:8080/",
     "height": 430
    },
    "collapsed": true,
    "executionInfo": {
     "elapsed": 1418,
     "status": "ok",
     "timestamp": 1725463801063,
     "user": {
      "displayName": "Carlos Arellano",
      "userId": "03055712073717640513"
     },
     "user_tz": 360
    },
    "id": "P7WpQe3tpL2r",
    "outputId": "39b3d0f3-d47c-4235-d8b2-75ab57558e35"
   },
   "outputs": [
    {
     "data": {
      "image/png": "[encoded data removed]",
      "text/plain": [
       "<Figure size 640x480 with 1 Axes>"
      ]
     },
     "metadata": {},
     "output_type": "display_data"
    }
   ],
   "source": [
    "x=sym.var('x')\n",
    "# Retomando la función \n",
    "g=(x-2)**3 \n",
    "g_num=sym.lambdify(x,g,'numpy') # Convertimos 'g' simbólica a numérica compatible con numpy\n",
    "# Graficamos\n",
    "x_num=np.linspace(0,4,100)      # Graficamos en un rango de 0 a 4 con 100 valores\n",
    "plt.plot(x_num,g_num(x_num))\n",
    "plt.plot(x0,g_num(x0),'*k')\n",
    "plt.axhline(0, color='black', linewidth=0.5)\n",
    "plt.axvline(0, color='black', linewidth=0.5)\n",
    "plt.grid()\n",
    "plt.show()"
   ]
  },
  {
   "cell_type": "code",
   "execution_count": 88,
   "metadata": {
    "id": "Gmjy2cWzrVjU"
   },
   "outputs": [],
   "source": [
    "# Usando el entorno 'def'\n",
    "def g(x):\n",
    "  return (x-2)**3"
   ]
  },
  {
   "cell_type": "code",
   "execution_count": 89,
   "metadata": {
    "colab": {
     "base_uri": "https://localhost:8080/",
     "height": 39
    },
    "executionInfo": {
     "elapsed": 405,
     "status": "ok",
     "timestamp": 1725464263456,
     "user": {
      "displayName": "Carlos Arellano",
      "userId": "03055712073717640513"
     },
     "user_tz": 360
    },
    "id": "WCIy7-xsrZ1z",
    "outputId": "9fe7a394-9c8c-43f0-e1a6-f8854bc63e64"
   },
   "outputs": [
    {
     "data": {
      "text/latex": [
       "$\\displaystyle \\left(x - 2\\right)^{3}$"
      ],
      "text/plain": [
       "(x - 2)**3"
      ]
     },
     "execution_count": 89,
     "metadata": {},
     "output_type": "execute_result"
    }
   ],
   "source": [
    "g(x) # El resultado es numérico"
   ]
  },
  {
   "cell_type": "code",
   "execution_count": 90,
   "metadata": {
    "colab": {
     "base_uri": "https://localhost:8080/"
    },
    "executionInfo": {
     "elapsed": 520,
     "status": "ok",
     "timestamp": 1725464279925,
     "user": {
      "displayName": "Carlos Arellano",
      "userId": "03055712073717640513"
     },
     "user_tz": 360
    },
    "id": "BOFxjbCgr0SO",
    "outputId": "e18fd66a-6719-4ceb-e181-b46432f5af0c"
   },
   "outputs": [
    {
     "data": {
      "text/plain": [
       "-8"
      ]
     },
     "execution_count": 90,
     "metadata": {},
     "output_type": "execute_result"
    }
   ],
   "source": [
    "g(0)"
   ]
  },
  {
   "cell_type": "code",
   "execution_count": 91,
   "metadata": {
    "colab": {
     "base_uri": "https://localhost:8080/"
    },
    "executionInfo": {
     "elapsed": 247,
     "status": "ok",
     "timestamp": 1725464319305,
     "user": {
      "displayName": "Carlos Arellano",
      "userId": "03055712073717640513"
     },
     "user_tz": 360
    },
    "id": "o9N9lvQ2r3eD",
    "outputId": "e63b3122-0623-4214-8d5c-2a349c50f8c6"
   },
   "outputs": [
    {
     "data": {
      "text/plain": [
       "[2]"
      ]
     },
     "execution_count": 91,
     "metadata": {},
     "output_type": "execute_result"
    }
   ],
   "source": [
    "dg=sym.diff(g(x),x) # Ahora el primer argumento es 'g(x)' y no solo 'g'\n",
    "c=sym.solve(dg)\n",
    "c"
   ]
  },
  {
   "cell_type": "code",
   "execution_count": 92,
   "metadata": {
    "colab": {
     "base_uri": "https://localhost:8080/",
     "height": 430
    },
    "collapsed": true,
    "executionInfo": {
     "elapsed": 424,
     "status": "ok",
     "timestamp": 1725464467907,
     "user": {
      "displayName": "Carlos Arellano",
      "userId": "03055712073717640513"
     },
     "user_tz": 360
    },
    "id": "yG_180hZr9H_",
    "outputId": "7d539b95-3135-4808-8b74-c28303f576f6"
   },
   "outputs": [
    {
     "data": {
      "image/png": "[encoded data removed]",
      "text/plain": [
       "<Figure size 640x480 with 1 Axes>"
      ]
     },
     "metadata": {},
     "output_type": "display_data"
    }
   ],
   "source": [
    "# Graficación\n",
    "plt.plot(x_num,g(x_num))\n",
    "plt.plot(c[0],g(c[0]),'+r',ms=10) # ms  ->  marksize\n",
    "plt.grid()"
   ]
  },
  {
   "cell_type": "markdown",
   "metadata": {},
   "source": [
    "### Conclusion\n",
    "Como la segunda derivada en x=2 es cero, la prueba de la segunda derivada no nos da información clara, por lo que analizamos la concavidad con la primera derivada.\n",
    "Como g(x) no cambia de signo alrededor de x=2, no hay un mínimo ni máximo relativo. En otras palabras, la función no tiene extremos locales, ya que siempre está aumentando."
   ]
  },
  {
   "cell_type": "markdown",
   "metadata": {
    "id": "EtrhIC04Td4n"
   },
   "source": [
    "### Ejemplo\n",
    "\n",
    "¿Qué pasa con $h(x)=(x-2)^4$ al intentar utilizar el criterio de la segunda derivada?."
   ]
  },
  {
   "cell_type": "code",
   "execution_count": 93,
   "metadata": {
    "colab": {
     "base_uri": "https://localhost:8080/",
     "height": 37
    },
    "executionInfo": {
     "elapsed": 329,
     "status": "ok",
     "timestamp": 1725466010697,
     "user": {
      "displayName": "Carlos Arellano",
      "userId": "03055712073717640513"
     },
     "user_tz": 360
    },
    "id": "Cnty3p-byizD",
    "outputId": "cd2c5196-890b-4469-973a-3fa23afc0f5e"
   },
   "outputs": [
    {
     "data": {
      "text/latex": [
       "$\\displaystyle 0$"
      ],
      "text/plain": [
       "0"
      ]
     },
     "execution_count": 93,
     "metadata": {},
     "output_type": "execute_result"
    }
   ],
   "source": [
    "x=sym.var('x')\n",
    "def h(x):\n",
    "  return (x-2)**4\n",
    "dh=sym.diff(h(x),x)\n",
    "ddh=sym.diff(dh,x)\n",
    "c=sym.solve(dh)\n",
    "ddh.subs(x,c[0])"
   ]
  },
  {
   "cell_type": "markdown",
   "metadata": {
    "id": "e3SORLguyzK7"
   },
   "source": [
    "Como el criterio de la segunda derivada no concluye, graficamos:"
   ]
  },
  {
   "cell_type": "code",
   "execution_count": 94,
   "metadata": {
    "colab": {
     "base_uri": "https://localhost:8080/",
     "height": 430
    },
    "collapsed": true,
    "executionInfo": {
     "elapsed": 578,
     "status": "ok",
     "timestamp": 1725466082904,
     "user": {
      "displayName": "Carlos Arellano",
      "userId": "03055712073717640513"
     },
     "user_tz": 360
    },
    "id": "eSkWhwX6yeCF",
    "outputId": "d3398636-1b76-4483-fe3e-8b41d0a36ad7"
   },
   "outputs": [
    {
     "data": {
      "image/png": "[encoded data removed]",
      "text/plain": [
       "<Figure size 640x480 with 1 Axes>"
      ]
     },
     "metadata": {},
     "output_type": "display_data"
    }
   ],
   "source": [
    "x_num=np.linspace(1,3,500)\n",
    "plt.plot(x_num,h(x_num))\n",
    "plt.plot(c[0],h(c[0]),'*r',ms=10)\n",
    "plt.grid()"
   ]
  },
  {
   "cell_type": "code",
   "execution_count": 95,
   "metadata": {
    "colab": {
     "base_uri": "https://localhost:8080/"
    },
    "executionInfo": {
     "elapsed": 269,
     "status": "ok",
     "timestamp": 1725466182254,
     "user": {
      "displayName": "Carlos Arellano",
      "userId": "03055712073717640513"
     },
     "user_tz": 360
    },
    "id": "5HArF1U7zFwb",
    "outputId": "411f21fc-44d8-4fd0-b170-3a2c9a0e98da"
   },
   "outputs": [
    {
     "data": {
      "text/plain": [
       "(2, 0)"
      ]
     },
     "execution_count": 95,
     "metadata": {},
     "output_type": "execute_result"
    }
   ],
   "source": [
    "c[0],h(c[0]) # Punto crítico"
   ]
  },
  {
   "cell_type": "markdown",
   "metadata": {
    "id": "ias5nJrgy4v5"
   },
   "source": [
    "Vemos que el punto crítico $(2,0)$ es un mínimo global para $h(x)=(x-2)^4$."
   ]
  },
  {
   "cell_type": "markdown",
   "metadata": {
    "collapsed": true,
    "id": "HiedyU4lTd5B"
   },
   "source": [
    "### Ejemplo\n",
    "\n",
    "Determinar los extremos absolutos de $f(x)=x^2-2x+5$ en $\\left[0,3\\right]$.\n",
    "\n",
    "Obtenemos los puntos críticos de $f$ en $\\left[0,3\\right]$:"
   ]
  },
  {
   "cell_type": "code",
   "execution_count": 96,
   "metadata": {
    "colab": {
     "base_uri": "https://localhost:8080/",
     "height": 38
    },
    "executionInfo": {
     "elapsed": 776,
     "status": "ok",
     "timestamp": 1725466565943,
     "user": {
      "displayName": "Carlos Arellano",
      "userId": "03055712073717640513"
     },
     "user_tz": 360
    },
    "id": "_TXcbomeyizD",
    "outputId": "b0d0de42-1a56-4b25-be9b-43ef15f614f3"
   },
   "outputs": [
    {
     "data": {
      "text/latex": [
       "$\\displaystyle x^{2} - 2 x + 5$"
      ],
      "text/plain": [
       "x**2 - 2*x + 5"
      ]
     },
     "execution_count": 96,
     "metadata": {},
     "output_type": "execute_result"
    }
   ],
   "source": [
    "def f(x):\n",
    "  return x**2-2*x+5\n",
    "f(x)"
   ]
  },
  {
   "cell_type": "code",
   "execution_count": 97,
   "metadata": {
    "colab": {
     "base_uri": "https://localhost:8080/"
    },
    "executionInfo": {
     "elapsed": 192,
     "status": "ok",
     "timestamp": 1725466605591,
     "user": {
      "displayName": "Carlos Arellano",
      "userId": "03055712073717640513"
     },
     "user_tz": 360
    },
    "id": "owBsvdYN0lib",
    "outputId": "374003a0-109b-4da0-d917-51e23449ba16"
   },
   "outputs": [
    {
     "data": {
      "text/plain": [
       "[1]"
      ]
     },
     "execution_count": 97,
     "metadata": {},
     "output_type": "execute_result"
    }
   ],
   "source": [
    "df=sym.diff(f(x),x)\n",
    "c=sym.solve(df)\n",
    "c"
   ]
  },
  {
   "cell_type": "code",
   "execution_count": 98,
   "metadata": {
    "colab": {
     "base_uri": "https://localhost:8080/"
    },
    "executionInfo": {
     "elapsed": 232,
     "status": "ok",
     "timestamp": 1725466690013,
     "user": {
      "displayName": "Carlos Arellano",
      "userId": "03055712073717640513"
     },
     "user_tz": 360
    },
    "id": "C1tzR-s60vZf",
    "outputId": "2818ef53-8f7d-4fdc-e1ee-4abac73979f8"
   },
   "outputs": [
    {
     "data": {
      "text/plain": [
       "array([0, 1, 3], dtype=object)"
      ]
     },
     "execution_count": 98,
     "metadata": {},
     "output_type": "execute_result"
    }
   ],
   "source": [
    "# Evaluamos en los extremos y en el punto crítico\n",
    "x=np.array([0,c[0],3])\n",
    "x"
   ]
  },
  {
   "cell_type": "code",
   "execution_count": 99,
   "metadata": {
    "colab": {
     "base_uri": "https://localhost:8080/"
    },
    "executionInfo": {
     "elapsed": 318,
     "status": "ok",
     "timestamp": 1725466706599,
     "user": {
      "displayName": "Carlos Arellano",
      "userId": "03055712073717640513"
     },
     "user_tz": 360
    },
    "id": "68A9l7BU1EAQ",
    "outputId": "dbf84de3-b3ec-42fa-dc79-a815d0f6e19c"
   },
   "outputs": [
    {
     "data": {
      "text/plain": [
       "array([5, 4, 8], dtype=object)"
      ]
     },
     "execution_count": 99,
     "metadata": {},
     "output_type": "execute_result"
    }
   ],
   "source": [
    "f(x)"
   ]
  },
  {
   "cell_type": "markdown",
   "metadata": {
    "id": "idgZrBeQ1IBw"
   },
   "source": [
    "### Conclusión\n",
    "Vemos que la evaluación del punto crítico $x=1$ en la función $f(x)=x^2-2x+5$, es la menor de las evaluaciónes, por lo que éste se trata de un mínimo."
   ]
  },
  {
   "cell_type": "markdown",
   "metadata": {
    "id": "iVZJEjM3Td6Q"
   },
   "source": [
    "### Actividad\n",
    "Determinar los valores extremos absolutos de  $f(x) = (x-3)^2(x+3)^2$ en el intervalo $[1,\\,4]$, usando `sympy`. Mostrar en una gráfica."
   ]
  },
  {
   "cell_type": "code",
   "execution_count": 100,
   "metadata": {
    "id": "KYnhCX4lyizD"
   },
   "outputs": [
    {
     "data": {
      "image/png": "[encoded data removed]",
      "text/plain": [
       "<Figure size 800x500 with 1 Axes>"
      ]
     },
     "metadata": {},
     "output_type": "display_data"
    },
    {
     "name": "stdout",
     "output_type": "stream",
     "text": [
      "Mínimo absoluto: x = 3, f(x) = 0\n",
      "Máximo absoluto: x = 1, f(x) = 64\n"
     ]
    }
   ],
   "source": [
    "import sympy as sp\n",
    "import numpy as np\n",
    "import matplotlib.pyplot as plt\n",
    "\n",
    "# Definir la variable y la función\n",
    "x = sp.symbols('x')\n",
    "f = (x - 3)**2 * (x + 3)**2\n",
    "\n",
    "# Calcular la derivada\n",
    "f_prime = sp.diff(f, x)\n",
    "\n",
    "# Encontrar los puntos críticos resolviendo f'(x) = 0\n",
    "critical_points = sp.solve(f_prime, x)\n",
    "\n",
    "# Filtrar los puntos críticos dentro del intervalo [1,4]\n",
    "critical_points = [p for p in critical_points if p.is_real and 1 <= p <= 4]\n",
    "\n",
    "# Evaluar la función en los puntos críticos y en los extremos del intervalo\n",
    "eval_points = [1, 4] + critical_points\n",
    "eval_values = [f.subs(x, p) for p in eval_points]\n",
    "\n",
    "# Encontrar el mínimo y máximo absolutos\n",
    "min_value = min(eval_values)\n",
    "max_value = max(eval_values)\n",
    "min_point = eval_points[eval_values.index(min_value)]\n",
    "max_point = eval_points[eval_values.index(max_value)]\n",
    "\n",
    "# Graficar la función en el intervalo [1,4]\n",
    "X = np.linspace(1, 4, 400)\n",
    "Y = [f.subs(x, val) for val in X]\n",
    "\n",
    "plt.figure(figsize=(8, 5))\n",
    "plt.plot(X, Y, label=r'$f(x) = (x-3)^2(x+3)^2$', color='blue')\n",
    "plt.scatter([min_point], [min_value], color='red', label=f'Mínimo absoluto: ({min_point}, {min_value})', zorder=3)\n",
    "plt.scatter([max_point], [max_value], color='green', label=f'Máximo absoluto: ({max_point}, {max_value})', zorder=3)\n",
    "plt.xlabel(\"x\")\n",
    "plt.ylabel(\"f(x)\")\n",
    "plt.title(\"Extremos absolutos de $f(x)$ en $[1,4]$\")\n",
    "plt.legend()\n",
    "plt.grid(True)\n",
    "plt.show()\n",
    "\n",
    "# Imprimir los resultados\n",
    "print(f\"Mínimo absoluto: x = {min_point}, f(x) = {min_value}\")\n",
    "print(f\"Máximo absoluto: x = {max_point}, f(x) = {max_value}\")\n"
   ]
  },
  {
   "cell_type": "markdown",
   "metadata": {
    "id": "DyCTw_zIyizD"
   },
   "source": [
    "---\n",
    "1. **Resistencia de una viga**  Una viga de madera tiene una sección transversal rectangular de altura $h$ y ancho $w$. La resistencia $S$ de la viga es directamente proporcional al ancho y al cuadrado de su altura ($S=kwh^2$, donde $k$ es una constante de proporcionalidad). ¿Cuáles son las dimensiones de la viga más fuerte que puede cortarse a partir de un leño redondo de $24$ pulgadas de diámetro?"
   ]
  },
  {
   "cell_type": "markdown",
   "metadata": {},
   "source": [
    "### Actividad\n",
    "Realiza el siguiente problema en tu cuaderno y comenta en el codigo para qué sirve cada cosa."
   ]
  },
  {
   "cell_type": "code",
   "execution_count": 101,
   "metadata": {
    "cellView": "form",
    "colab": {
     "base_uri": "https://localhost:8080/",
     "height": 406
    },
    "executionInfo": {
     "elapsed": 924,
     "status": "ok",
     "timestamp": 1725650375664,
     "user": {
      "displayName": "Carlos Arellano",
      "userId": "03055712073717640513"
     },
     "user_tz": 360
    },
    "id": "mkUNxgOSyizD",
    "outputId": "8509db11-d5a0-4b28-bea7-3cf610b0efd1"
   },
   "outputs": [
    {
     "data": {
      "image/png": "[encoded data removed]",
      "text/plain": [
       "<Figure size 640x480 with 1 Axes>"
      ]
     },
     "metadata": {},
     "output_type": "display_data"
    }
   ],
   "source": [
    "#@markdown\n",
    "import numpy as np\n",
    "import matplotlib.pyplot as plt\n",
    "import matplotlib.patches as patches\n",
    "\n",
    "C = patches.Circle((0, 0),12, fill=False,color='brown',lw=4) #Se crea un círculo de radio 12, centrado en (0,0)\n",
    "S = patches.Rectangle((-9,-8),18,16,fill=False,color='k') #Se crea un rectángulo en (0,0) con ancho 18 y altura 16\n",
    "ax = plt.gca() #Se obtiene el eje de la figura\n",
    "ax.add_artist(S) #Añadimos el rectángulo a la gráfica\n",
    "ax.add_artist(C) #Añadimos el círculo a la gráfica\n",
    "\n",
    "plt.text(0,8.5,'$w$') #Etiqueta para el ancho\n",
    "plt.text(9.5,0,'$h$') #Etiqueta para la altura\n",
    "\n",
    "plt.plot([-9,9],[-8,8],'r--') #Dibujar línea punteada en diagonal dentro del círculo\n",
    "plt.text(0,2,'$24$') #Se etiqueta la diagonal\n",
    "\n",
    "plt.axis('equal') #Ajustar los ejes\n",
    "plt.ylim([-15,15]) #Limites del eje y\n",
    "plt.axis('off') #Ocultar los ejes\n",
    "plt.show() #Mostrar la figura"
   ]
  },
  {
   "cell_type": "markdown",
   "metadata": {
    "id": "9Z8Otg2MzHN_"
   },
   "source": [
    "**Solución:**\n",
    "\n",
    "Se desea maximizar la resistencia de una viga\n",
    "$$\n",
    "\\mathrm{max}S=kwh^2\n",
    "$$\n",
    "donde, usando el teorema de Pitágoras se ve que la altura está en función del diámetro y del ancho, esto es, $h^2=24^2-w^2$; sustituyendo en la resistencia, se tiene\n",
    "$$\n",
    "\\mathrm{max}_{w}S(w)=\\mathrm{max}_{w}kw(24^2-w^2),\n",
    "$$\n",
    "para $0\\leq w\\leq24$ in."
   ]
  },
  {
   "cell_type": "code",
   "execution_count": 102,
   "metadata": {
    "id": "ssRl5U5CWuGf"
   },
   "outputs": [],
   "source": [
    "import sympy as sym"
   ]
  },
  {
   "cell_type": "code",
   "execution_count": 103,
   "metadata": {
    "colab": {
     "base_uri": "https://localhost:8080/"
    },
    "executionInfo": {
     "elapsed": 1075,
     "status": "ok",
     "timestamp": 1725894978043,
     "user": {
      "displayName": "Carlos Arellano",
      "userId": "03055712073717640513"
     },
     "user_tz": 360
    },
    "id": "xVBBTWyo0zou",
    "outputId": "696e8f4c-01dc-404e-e466-efbcf231bc75"
   },
   "outputs": [
    {
     "data": {
      "text/plain": [
       "[13.8564064605510]"
      ]
     },
     "execution_count": 103,
     "metadata": {},
     "output_type": "execute_result"
    }
   ],
   "source": [
    "w=sym.var('w',real=True,positive=True)\n",
    "def S(w):\n",
    "  k=10000     # Constante de resistencia (N/mm^2)\n",
    "  k=k*25.24**-2 # N/in^2\n",
    "  return k*w*(24**2-w**2)\n",
    "\n",
    "dS=sym.diff(S(w),w) \n",
    "c=sym.solve(dS)\n",
    "c"
   ]
  },
  {
   "cell_type": "code",
   "execution_count": 104,
   "metadata": {
    "colab": {
     "base_uri": "https://localhost:8080/",
     "height": 37
    },
    "executionInfo": {
     "elapsed": 712,
     "status": "ok",
     "timestamp": 1725895019774,
     "user": {
      "displayName": "Carlos Arellano",
      "userId": "03055712073717640513"
     },
     "user_tz": 360
    },
    "id": "KB2Rr61LW7Vz",
    "outputId": "f62cc34b-8d30-4ff9-c6a3-dedd4f33e1dc"
   },
   "outputs": [
    {
     "data": {
      "text/latex": [
       "$\\displaystyle 13.856406460551$"
      ],
      "text/plain": [
       "13.8564064605510"
      ]
     },
     "execution_count": 104,
     "metadata": {},
     "output_type": "execute_result"
    }
   ],
   "source": [
    "8*sym.sqrt(3).evalf()"
   ]
  },
  {
   "cell_type": "code",
   "execution_count": 105,
   "metadata": {
    "colab": {
     "base_uri": "https://localhost:8080/",
     "height": 37
    },
    "executionInfo": {
     "elapsed": 6,
     "status": "ok",
     "timestamp": 1725894978044,
     "user": {
      "displayName": "Carlos Arellano",
      "userId": "03055712073717640513"
     },
     "user_tz": 360
    },
    "id": "B8Lc_e6P10UP",
    "outputId": "c888378e-9f05-4ff1-a514-aefbe8ea0ea7"
   },
   "outputs": [
    {
     "data": {
      "text/latex": [
       "$\\displaystyle -1305.03801796425$"
      ],
      "text/plain": [
       "-1305.03801796425"
      ]
     },
     "execution_count": 105,
     "metadata": {},
     "output_type": "execute_result"
    }
   ],
   "source": [
    "ddS=dS.diff(w)   # Segunda derivada\n",
    "ddS.subs(w,c[0]) # Evaluación del punto crítico"
   ]
  },
  {
   "cell_type": "code",
   "execution_count": 106,
   "metadata": {
    "colab": {
     "base_uri": "https://localhost:8080/",
     "height": 38
    },
    "executionInfo": {
     "elapsed": 234,
     "status": "ok",
     "timestamp": 1725895059969,
     "user": {
      "displayName": "Carlos Arellano",
      "userId": "03055712073717640513"
     },
     "user_tz": 360
    },
    "id": "vipJgGBe2mV8",
    "outputId": "dab8dbb8-7451-47b3-b0aa-a850203fdfea"
   },
   "outputs": [
    {
     "data": {
      "text/latex": [
       "$\\displaystyle 8 \\sqrt{6}$"
      ],
      "text/plain": [
       "8*sqrt(6)"
      ]
     },
     "execution_count": 106,
     "metadata": {},
     "output_type": "execute_result"
    }
   ],
   "source": [
    "high=sym.sqrt(24**2-8**2*3) # Altura asociada al ancho óptimo\n",
    "high"
   ]
  },
  {
   "cell_type": "code",
   "execution_count": 107,
   "metadata": {
    "colab": {
     "base_uri": "https://localhost:8080/",
     "height": 38
    },
    "executionInfo": {
     "elapsed": 323,
     "status": "ok",
     "timestamp": 1725895087223,
     "user": {
      "displayName": "Carlos Arellano",
      "userId": "03055712073717640513"
     },
     "user_tz": 360
    },
    "id": "iR1yHrSy2vxd",
    "outputId": "c23873b5-176d-4b82-9939-3be05b862866"
   },
   "outputs": [
    {
     "data": {
      "text/latex": [
       "$\\displaystyle 48221.6992623587 \\sqrt{3}$"
      ],
      "text/plain": [
       "48221.6992623587*sqrt(3)"
      ]
     },
     "execution_count": 107,
     "metadata": {},
     "output_type": "execute_result"
    }
   ],
   "source": [
    "# Resistencia máxima\n",
    "S(8*sym.sqrt(3))"
   ]
  },
  {
   "cell_type": "markdown",
   "metadata": {
    "id": "CVfAS1Nw2HR1"
   },
   "source": [
    "**Respuesta del aluno:**\n",
    "\n",
    "Encontramos una resistencia máxima en $w=$ 8x(raiz de 3) y $h=$ 8x(raiz de 6), siendo ésta de $S=48.2\\sqrt{3}$kN/in."
   ]
  },
  {
   "cell_type": "markdown",
   "metadata": {
    "id": "4cn2yfoOyizE"
   },
   "source": [
    "---\n",
    "2. **Iluminación**  Una fuente luminosa se localiza sobre el centro de una mesa circular de $4 pies$ de diámetro. Encontrar la altura $h$ de la fuente luminosa de modo tal que la iluminación $I$ en el perímetro de la mesa sea máxima si $I=k(\\sin \\alpha)/s^2$, donde $s$ es la altura oblicua, $\\alpha$ es el ángulo al cual la luz incide sobre la mesa y $k$ es una constante (El valor de esta última constante es irrelevante para el problema, ya que no se pide el valor de la iluminación)."
   ]
  },
  {
   "cell_type": "code",
   "execution_count": 108,
   "metadata": {
    "cellView": "form",
    "colab": {
     "base_uri": "https://localhost:8080/",
     "height": 406
    },
    "executionInfo": {
     "elapsed": 205,
     "status": "ok",
     "timestamp": 1725651979250,
     "user": {
      "displayName": "Carlos Arellano",
      "userId": "03055712073717640513"
     },
     "user_tz": 360
    },
    "id": "QyYMEHaCyizE",
    "outputId": "adcee741-38cb-4d2c-bcff-b3dec65afdf0"
   },
   "outputs": [
    {
     "data": {
      "image/png": "[encoded data removed]",
      "text/plain": [
       "<Figure size 640x480 with 1 Axes>"
      ]
     },
     "metadata": {},
     "output_type": "display_data"
    }
   ],
   "source": [
    "#@markdown\n",
    "E = patches.Ellipse((0, 0),10, 3,fc='white',ec='brown')\n",
    "C = patches.Circle((0,10.5),0.5,color='y')\n",
    "a = patches.Arc((-5,0),2,2,theta2=60)\n",
    "p1 = patches.Rectangle((-5, -2),0.5, 2, fill=False,color='brown')\n",
    "p2 = patches.Rectangle((4.5, -2),0.5, 2, fill=False,color='brown')\n",
    "p3 = patches.Rectangle((-0.25, -3),0.5, 2, fill=False,color='brown')\n",
    "ax = plt.gca()\n",
    "ax.add_artist(p1)\n",
    "ax.add_artist(p2)\n",
    "ax.add_artist(p3)\n",
    "ax.add_artist(E)\n",
    "ax.add_artist(C)\n",
    "ax.add_artist(a)\n",
    "\n",
    "plt.text(2,5,'$s$')\n",
    "plt.text(0,3,'$h$')\n",
    "plt.text(-4,0.5,r'$\\alpha$')\n",
    "plt.text(-0.5,-1,'$4$ pies')\n",
    "\n",
    "plt.plot([-5,0,5],[0,10,0],'y--')\n",
    "plt.plot([-5,5],[0,0],'k--')\n",
    "plt.plot([0,0],[0,10],'k--')\n",
    "\n",
    "\n",
    "plt.axis('equal')\n",
    "plt.ylim([-3.1,12])\n",
    "plt.axis('off')\n",
    "plt.show()"
   ]
  },
  {
   "cell_type": "markdown",
   "metadata": {
    "id": "sXBQHSqs4K2t"
   },
   "source": [
    "**Solución:**\n",
    "\n",
    "Se desea maximizar la iluminación\n",
    "$$\n",
    "\\mathrm{max}I=\\mathrm{max}k\\frac{\\sin(\\alpha)}{s^2},\n",
    "$$\n",
    "donde, usando el teorema de Pitágoras, se tiene que $s^2=h^2+2^2$, siendo $2$ el radio de la mesa; además, por definición de funciones trigonométricas, sabemos que $\\sin(\\alpha)=\\frac{h}{s}$. Sustituyendo en el criterio de optimización resulta\n",
    "$$\n",
    "I=k\\frac{h/s}{h^2+4},\n",
    "$$\n",
    "reemplazando, de nuevo, $s=\\sqrt{h^2+4}$, tenemos la iluminación en función de la altura:\n",
    "$$\n",
    "\\mathrm{max}_hI(h)=\\mathrm{max}_hk\\frac{h}{(h^2+4)^{3/2}},\n",
    "$$\n",
    "para $h\\geq0$."
   ]
  },
  {
   "cell_type": "code",
   "execution_count": 109,
   "metadata": {
    "colab": {
     "base_uri": "https://localhost:8080/",
     "height": 37
    },
    "executionInfo": {
     "elapsed": 231,
     "status": "ok",
     "timestamp": 1725653041871,
     "user": {
      "displayName": "Carlos Arellano",
      "userId": "03055712073717640513"
     },
     "user_tz": 360
    },
    "id": "fMobDHPc759E",
    "outputId": "c3db57eb-8435-482e-fddf-b811ecd1e902"
   },
   "outputs": [
    {
     "name": "stdout",
     "output_type": "stream",
     "text": [
      "Soluciones críticas de h: [sqrt(2)]\n",
      "Altura válida para máxima iluminación: [1.41421356237310]\n"
     ]
    }
   ],
   "source": [
    "import sympy as sp\n",
    "\n",
    "# Definimos las variables\n",
    "h = sp.Symbol('h', real=True, positive=True)\n",
    "R = 2  # Radio de la mesa (4 pies de diámetro)\n",
    "\n",
    "# La altura oblicua s\n",
    "s = sp.sqrt(h**2 + R**2)\n",
    "\n",
    "# Función de iluminación I en función de h\n",
    "I = h / (s**3)\n",
    "\n",
    "# Derivada de I respecto a h\n",
    "dI_dh = sp.simplify(sp.diff(I, h))\n",
    "\n",
    "# Resolviendo la ecuación dI/dh = 0 para encontrar el valor crítico de h\n",
    "critical_h = sp.solve(dI_dh, h)\n",
    "\n",
    "# Filtramos la solución positiva\n",
    "valid_h = [sol.evalf() for sol in critical_h if sol.is_real and sol > 0]\n",
    "\n",
    "print(f\"Soluciones críticas de h: {critical_h}\")\n",
    "\n",
    "# Mostramos la solución\n",
    "print(f\"Altura válida para máxima iluminación: {valid_h}\")"
   ]
  },
  {
   "cell_type": "markdown",
   "metadata": {
    "id": "SIsEMIt178Dt"
   },
   "source": [
    "**Respuesta del alumno:**\n",
    "\n",
    "Encontramos un máximo ubicando la fuente de iluminación a $h=$ 1.41421356237310 pies, sobre la mesa de 2 pies de diametro. Con una iluminación de $I=$ 0.096k siendo $k$ una constante.\n",
    "\n",
    "---"
   ]
  },
  {
   "cell_type": "markdown",
   "metadata": {
    "id": "HUOymOqayizH"
   },
   "source": [
    "3. **Fuerza mínima**  Se diseña un componente para deslizar un bloque de acero con peso $W=10 N$ a través de una mesa y sobre una canaleta. Se opone al movimiento del bloque una fuerza de fricción proporcional a su peso aparente (sea $k=0.1$ la constante de proporcionalidad). Determinar la fuerza mínima $f$ necesaria para deslizar el bloque y encontrar el valor correspondiente de $\\theta$.\n",
    "\n",
    "Ayudín: $f\\cos \\theta$ es la fuerza de dirección del movimiento, y $f\\sin\\theta$ es la fuerza que tiende a levantar el bloque. De tal modo, el peso aparente del bloque es $W-f\\sin\\theta$."
   ]
  },
  {
   "cell_type": "code",
   "execution_count": 110,
   "metadata": {
    "cellView": "form",
    "colab": {
     "base_uri": "https://localhost:8080/",
     "height": 406
    },
    "executionInfo": {
     "elapsed": 189,
     "status": "ok",
     "timestamp": 1725653376179,
     "user": {
      "displayName": "Carlos Arellano",
      "userId": "03055712073717640513"
     },
     "user_tz": 360
    },
    "id": "rhAD76XPyizH",
    "outputId": "766ab01e-fe2d-41b5-b8e1-7aa0cbb77431"
   },
   "outputs": [
    {
     "data": {
      "image/png": "[encoded data removed]",
      "text/plain": [
       "<Figure size 640x480 with 1 Axes>"
      ]
     },
     "metadata": {},
     "output_type": "display_data"
    }
   ],
   "source": [
    "#@markdown\n",
    "W = patches.Rectangle((0, 2),0.8, 0.5, fill=False,color='k')\n",
    "a = patches.Arrow(0.8,2.25,1,0.5,width=0.1,color='k')\n",
    "arc = patches.Arc((0.8,2.25),1,1,theta2=30)\n",
    "ax = plt.gca()\n",
    "ax.add_artist(W)\n",
    "ax.add_artist(a)\n",
    "ax.add_artist(arc)\n",
    "\n",
    "plt.text(0.2,2.6,'$W$')\n",
    "plt.text(1.8,3,'$f$')\n",
    "plt.text(1.35,2.305,r'$\\theta$')\n",
    "\n",
    "plt.plot([1.8,2.8],[2.75,3.25],'k')\n",
    "plt.plot([0.8,2],[2.25,2.25],'k--')\n",
    "plt.plot([-1,-1,2,2],[0,2,2,0],'k')\n",
    "\n",
    "\n",
    "plt.axis('equal')\n",
    "plt.ylim([0,4])\n",
    "plt.axis('off')\n",
    "plt.show()"
   ]
  },
  {
   "cell_type": "markdown",
   "metadata": {
    "id": "gXghqTJjyizH"
   },
   "source": [
    "**Solución:**\n",
    "\n",
    "Equlibrando las fuerzas horizontales, es fácil ver que,\n",
    "$$\n",
    "f\\cos(\\theta)=k(W-f\\sin(\\theta),\n",
    "$$\n",
    "donde, el lado izquierdo de la igualdad corresponde a la componente horizontal de la fuerza empleada y el lado derecho, corresponde a la fricción generada.\n",
    "\n",
    "sumando en ambos lados $kf\\sin(\\theta)$, resulta\n",
    "$$\n",
    "f(\\cos(\\theta)+k\\sin(\\theta))=kW,\n",
    "$$\n",
    "despejando $f$ se tiene:\n",
    "$$\n",
    "f=\\frac{kW}{\\cos(\\theta)+k\\sin(\\theta)}.\n",
    "$$\n",
    "Siendo éste el criterio de optimización para $-\\pi<\\theta<\\pi$."
   ]
  },
  {
   "cell_type": "code",
   "execution_count": 111,
   "metadata": {
    "colab": {
     "base_uri": "https://localhost:8080/",
     "height": 55
    },
    "executionInfo": {
     "elapsed": 230,
     "status": "ok",
     "timestamp": 1725654318966,
     "user": {
      "displayName": "Carlos Arellano",
      "userId": "03055712073717640513"
     },
     "user_tz": 360
    },
    "id": "cWT-oXRBAYUE",
    "outputId": "c5342d09-7521-4562-86c9-7eb9d4d33128"
   },
   "outputs": [
    {
     "data": {
      "text/plain": [
       "(np.float64(5.024937810560448), np.float64(84.28940686250037))"
      ]
     },
     "execution_count": 111,
     "metadata": {},
     "output_type": "execute_result"
    }
   ],
   "source": [
    "import numpy as np\n",
    "\n",
    "# Datos del problema\n",
    "k = 0.1  # constante de proporcionalidad de la fricción\n",
    "W = 10  # peso del bloque en Newtons\n",
    "\n",
    "# Función que calcula la fuerza f en función del ángulo theta\n",
    "def fuerza(theta, k, W):\n",
    "    return k * W / (np.cos(theta) + k * np.sin(theta))\n",
    "\n",
    "# Derivada de la función fuerza con respecto a theta para encontrar el mínimo\n",
    "def derivada_fuerza(theta, k):\n",
    "    return (-np.sin(theta) + k * np.cos(theta)) / (np.cos(theta) + k * np.sin(theta))**2\n",
    "\n",
    "# Encontramos el ángulo que minimiza la fuerza (la derivada igualada a 0)\n",
    "theta_opt = np.arctan(10)  # La derivada de la función se iguala a cero y resuelve tan(θ) = 10\n",
    "\n",
    "# Calculamos la fuerza mínima\n",
    "f_min = fuerza(theta_opt, k, W)\n",
    "\n",
    "# Convertir el ángulo a grados\n",
    "theta_opt_deg = np.degrees(theta_opt)\n",
    "\n",
    "# Mostrar resultados\n",
    "f_min, theta_opt_deg\n"
   ]
  },
  {
   "cell_type": "markdown",
   "metadata": {
    "id": "tlcodQaOBYUF"
   },
   "source": [
    "**Respuesta del alumno:**\n",
    "\n",
    "Encontramos una fuerza mínima de $f=$ 5.02 N con un ángulo de $\\theta=$ 84.29 rad.\n",
    "\n",
    "---"
   ]
  },
  {
   "cell_type": "markdown",
   "metadata": {
    "id": "sA8xDLaS2ePv"
   },
   "source": [
    "**Volumen de una caja**  Para elavorar una caja, una fábrica dispone de láminas de cartón cuadradas de 13 unidades por lado, a las cuales se les recorta un cuadrado en cada extremo. ¿Qué longitud debe tener el del cuadrado del recorte para que la caja costruida contenga el máximo volumen posible?"
   ]
  },
  {
   "cell_type": "code",
   "execution_count": 112,
   "metadata": {
    "cellView": "form",
    "colab": {
     "base_uri": "https://localhost:8080/"
    },
    "collapsed": true,
    "executionInfo": {
     "elapsed": 568,
     "status": "ok",
     "timestamp": 1725895712322,
     "user": {
      "displayName": "Carlos Arellano",
      "userId": "03055712073717640513"
     },
     "user_tz": 360
    },
    "id": "dT6NhbTC2lQo",
    "outputId": "75d59b5b-caba-4678-ae55-3060828b338a"
   },
   "outputs": [
    {
     "data": {
      "image/png": "[encoded data removed]",
      "text/plain": [
       "<Figure size 640x480 with 1 Axes>"
      ]
     },
     "metadata": {},
     "output_type": "display_data"
    }
   ],
   "source": [
    "#@markdown\n",
    "import matplotlib.pyplot as plt\n",
    "from matplotlib import patches\n",
    "S1 = patches.Rectangle((0, 0),13,13, fill=False,color='k')\n",
    "c1 = patches.Rectangle((11,0),2,2,fill=False,color='k',ls=':')\n",
    "c2 = patches.Rectangle((0,0),2,2,fill=False,color='k',ls=':')\n",
    "c3 = patches.Rectangle((11,11),2,2,fill=False,color='k',ls=':')\n",
    "c4 = patches.Rectangle((0,11),2,2,fill=False,color='k',ls=':')\n",
    "ax = plt.gca()\n",
    "ax.add_artist(S1)\n",
    "ax.add_artist(c1)\n",
    "ax.add_artist(c2)\n",
    "ax.add_artist(c3)\n",
    "ax.add_artist(c4)\n",
    "\n",
    "plt.text(-0.8,12,'$x$')\n",
    "plt.plot([-1,-0.2],[11,11],'k--')\n",
    "plt.plot([-1,-0.2],[13,13],'k--')\n",
    "plt.text(0.9,2.3,'$x$')\n",
    "plt.plot([0.1,0.1],[2.2,3],'k--')\n",
    "plt.plot([2,2],[2.2,3],'k--')\n",
    "\n",
    "plt.plot([13.2,14],[0,0],'k--')\n",
    "plt.plot([13.2,14],[13,13],'k--')\n",
    "plt.plot([13.6,13.6],[13,7.1],'k--')\n",
    "plt.text(13.6,6.1,'$13$')\n",
    "plt.plot([13.6,13.6],[5.7,0],'k--')\n",
    "\n",
    "plt.axis([-1,20,-1,15])\n",
    "#plt.axis('equal')\n",
    "plt.axis('off')\n",
    "plt.show()"
   ]
  },
  {
   "cell_type": "markdown",
   "metadata": {
    "id": "sZGsm2tLZrl0"
   },
   "source": [
    "**Solución:**\n",
    "\n",
    "Deseamos encontrar el volumen del prisma resultante al cortar la caja, es decir\n",
    "$$\n",
    "\\max V=\\max Bh,\n",
    "$$\n",
    "donde $B$ es la base cuadrada del prisma y $h$ la altura. Se ve además que $B=(13-2x)^2$ y $h=x$, por lo que sustituyendo tenemos\n",
    "$$\n",
    "\\max_{x}V(x)=\\max_{x}(13-2x)^2x,\n",
    "$$\n",
    "para $0\\leq x<13/2$."
   ]
  },
  {
   "cell_type": "code",
   "execution_count": 113,
   "metadata": {
    "colab": {
     "base_uri": "https://localhost:8080/",
     "height": 37
    },
    "executionInfo": {
     "elapsed": 338,
     "status": "ok",
     "timestamp": 1725896499624,
     "user": {
      "displayName": "Carlos Arellano",
      "userId": "03055712073717640513"
     },
     "user_tz": 360
    },
    "id": "IfzMTGADce5k",
    "outputId": "19cedfa5-e56b-4166-e223-952ca668421e"
   },
   "outputs": [
    {
     "name": "stdout",
     "output_type": "stream",
     "text": [
      "El valor de x que maximiza el volumen es: 13/6\n",
      "El volumen máximo es: 4394/27\n"
     ]
    }
   ],
   "source": [
    "import sympy as sp\n",
    "\n",
    "# Definir la variable x\n",
    "x = sp.symbols('x')\n",
    "\n",
    "# Expresión del volumen\n",
    "V = (13 - 2*x)**2 * x\n",
    "\n",
    "# Derivar la función del volumen respecto a x\n",
    "V_prime = sp.diff(V, x)\n",
    "\n",
    "# Resolver la ecuación derivada igualada a cero\n",
    "soluciones = sp.solve(V_prime, x)\n",
    "\n",
    "# Filtrar soluciones válidas, ya que x debe estar entre 0 y 13/2\n",
    "soluciones_validas = [sol for sol in soluciones if 0 <= sol < 13/2]\n",
    "\n",
    "# Evaluar el volumen en la solución válida\n",
    "volumen_maximo = V.subs(x, soluciones_validas[0])\n",
    "\n",
    "print(f\"El valor de x que maximiza el volumen es: {soluciones_validas[0]}\")\n",
    "print(f\"El volumen máximo es: {volumen_maximo}\")\n"
   ]
  },
  {
   "cell_type": "markdown",
   "metadata": {
    "id": "XwY-yJV-cm66"
   },
   "source": [
    "**Respuesta del alumno:**\n",
    "\n",
    "El volumen máximo lo encontramos cortando $$ de unidad, siendo éste $V=$ 162.74 unidades cúbicas.\n",
    "\n",
    "---"
   ]
  },
  {
   "cell_type": "markdown",
   "metadata": {
    "id": "A3G8EIKv6N3n"
   },
   "source": [
    "**Minimización del tiempo.** Un barco encalló en el punto **P** a $9 km$ del punto más próximo a la costa en línea recta. Se necesita enviar a un mensajero a un pueblo situado en la orilla de la costa a 15 km de **P**. Teniendo en cuenta que el mensajero recorre a pie $5 km/h$, y en una barca a $4 km/h$, decir en qué punto de la orilla debe desembarcar para llegar al pueblo lo más pronto posible?"
   ]
  },
  {
   "cell_type": "code",
   "execution_count": 114,
   "metadata": {
    "cellView": "form",
    "colab": {
     "base_uri": "https://localhost:8080/",
     "height": 256
    },
    "executionInfo": {
     "elapsed": 642,
     "status": "ok",
     "timestamp": 1725887613163,
     "user": {
      "displayName": "Carlos Arellano",
      "userId": "03055712073717640513"
     },
     "user_tz": 360
    },
    "id": "tXd0yK2P6bPO",
    "outputId": "4f00a9ab-8138-4b21-8d15-21499c1bb243"
   },
   "outputs": [
    {
     "data": {
      "image/png": "[encoded data removed]",
      "text/plain": [
       "<Figure size 640x480 with 1 Axes>"
      ]
     },
     "metadata": {},
     "output_type": "display_data"
    }
   ],
   "source": [
    "#@markdown\n",
    "import matplotlib.pyplot as plt\n",
    "def dim(p1,p2,txt):\n",
    "    vertical=p1[0]-p2[0]==0\n",
    "    plt.plot([p1[0]-0.3*vertical,p1[0]+0.3*vertical],[p1[1]-0.3*(1-vertical),p1[1]+0.3*(1-vertical)],'k',\n",
    "             [p2[0]-0.3*vertical,p2[0]+0.3*vertical],[p2[1]-0.3*(1-vertical),p2[1]+0.3*(1-vertical)],'k',\n",
    "             [min(p1[0],p2[0]),(p1[0]+p2[0])/2-0.15*len(txt)*(1-vertical)],[min(p1[1],p2[1]),(p1[1]+p2[1])/2-0.2*vertical],'k',\n",
    "             [max(p1[0],p2[0]),(p1[0]+p2[0])/2+0.25*len(txt)*(1-vertical)],[max(p1[1],p2[1]),(p1[1]+p2[1])/2+0.5*vertical],'k',lw=1)\n",
    "    plt.text((p1[0]+p2[0])/2-len(txt)*0.1,(p1[1]+p2[1])/2-0.15*(1-vertical),txt)\n",
    "\n",
    "plt.plot([0,0,15],[0,9,9],'k',\n",
    "         [0,11],[0,9],'--k',\n",
    "         [0,15],[0,9],'ok')\n",
    "plt.text(-0.5,0,'P')\n",
    "plt.text(14.2,8.2,'Poblado')\n",
    "dim((-1.5,9),(-1.5,0),'9 km')\n",
    "dim((0,9.5),(11,9.5),'15-x km')\n",
    "dim((11,9.5),(15,9.5),'x km')\n",
    "\n",
    "plt.axis('equal')\n",
    "ax=plt.axis('off')"
   ]
  },
  {
   "cell_type": "markdown",
   "metadata": {
    "id": "CzFN2DN3fJQh"
   },
   "source": [
    "**Solución:**\n",
    "\n",
    "La distancia total recorrida es la suma del punto **P** a $x$ km del poblado por la orilla, llámese $y$, más $x$ km. La primera recorrida a $5 km/h$ y la segunda a $4 km/h$. Se deduce además que, $y^2=9^2+(15-x)^2$. Por lo que el tiempo mínimo es:\n",
    "$$\n",
    "t=\\frac{\\sqrt{9^2+(15-x)^2}}{4}+\\frac{x}{5},\n",
    "$$\n",
    "para $0\\leq x\\leq15$ km."
   ]
  },
  {
   "cell_type": "code",
   "execution_count": 115,
   "metadata": {},
   "outputs": [
    {
     "name": "stdout",
     "output_type": "stream",
     "text": [
      "El punto óptimo de desembarco es a 3.00 km del punto más cercano.\n",
      "El tiempo mínimo es de 4.35 horas.\n"
     ]
    }
   ],
   "source": [
    "import numpy as np\n",
    "from scipy.optimize import minimize\n",
    "\n",
    "# Definimos la función de tiempo t(x)\n",
    "def tiempo(x):\n",
    "    # Distancia desde P a Q\n",
    "    distancia_barca = np.sqrt(9**2 + (15 - x)**2)\n",
    "    # Tiempo en la barca (4 km/h)\n",
    "    tiempo_barca = distancia_barca / 4\n",
    "    # Tiempo caminando (5 km/h)\n",
    "    tiempo_caminar = x / 5\n",
    "    # Tiempo total\n",
    "    return tiempo_barca + tiempo_caminar\n",
    "\n",
    "# Definimos el rango de x (0 <= x <= 15)\n",
    "resultado = minimize(tiempo, 7.5, bounds=[(0, 15)])\n",
    "\n",
    "# Resultado de la optimización\n",
    "x_optimo = resultado.x[0]\n",
    "tiempo_minimo = resultado.fun\n",
    "\n",
    "print(f\"El punto óptimo de desembarco es a {x_optimo:.2f} km del punto más cercano.\")\n",
    "print(f\"El tiempo mínimo es de {tiempo_minimo:.2f} horas.\")\n"
   ]
  },
  {
   "cell_type": "markdown",
   "metadata": {
    "id": "rOC0LP0Ei_K8"
   },
   "source": [
    "**Respuesta del alumno:**\n",
    "\n",
    "El tiempo mínimo es de $$ 4.35 horas remando a $$ 3 km del poblado.\n",
    "\n",
    "---"
   ]
  }
 ],
 "metadata": {
  "colab": {
   "provenance": []
  },
  "kernelspec": {
   "display_name": ".venv",
   "language": "python",
   "name": "python3"
  },
  "language_info": {
   "codemirror_mode": {
    "name": "ipython",
    "version": 3
   },
   "file_extension": ".py",
   "mimetype": "text/x-python",
   "name": "python",
   "nbconvert_exporter": "python",
   "pygments_lexer": "ipython3",
   "version": "3.13.1"
  }
 },
 "nbformat": 4,
 "nbformat_minor": 1
}
